{
 "cells": [
  {
   "cell_type": "markdown",
   "metadata": {},
   "source": [
    "# Chapter 0: What Can Be Done"
   ]
  },
  {
   "cell_type": "code",
   "execution_count": null,
   "metadata": {},
   "outputs": [],
   "source": []
  },
  {
   "cell_type": "markdown",
   "metadata": {},
   "source": [
    "## COMPANY IT KEEPS: This is a 'key or mode' -- a prime-numbered set. Even inside the embedding there is a network. Even inside the *numbers* there is a network."
   ]
  },
  {
   "cell_type": "markdown",
   "metadata": {},
   "source": [
    "What are answeres in music? For the ML Answers + Data = Rules equation. \n",
    "\n",
    "(old way: Data + Rules = answers)\n",
    "\n",
    "(btw, is the new way min(answers - data) = rules?"
   ]
  },
  {
   "cell_type": "markdown",
   "metadata": {},
   "source": [
    "Defining a 'word' in music is not possible without company. Without other words, sounds float freely`"
   ]
  },
  {
   "cell_type": "markdown",
   "metadata": {},
   "source": [
    "binary - kpdve in binary - kpdve out"
   ]
  },
  {
   "cell_type": "markdown",
   "metadata": {},
   "source": [
    "Binary: MIDI - Audio"
   ]
  },
  {
   "cell_type": "markdown",
   "metadata": {},
   "source": [
    "KPDVE: Controller - Keyboard"
   ]
  },
  {
   "cell_type": "markdown",
   "metadata": {},
   "source": [
    "Live in/out"
   ]
  },
  {
   "cell_type": "markdown",
   "metadata": {},
   "source": [
    "Get info from old Markup doc"
   ]
  },
  {
   "cell_type": "code",
   "execution_count": null,
   "metadata": {},
   "outputs": [],
   "source": []
  }
 ],
 "metadata": {
  "kernelspec": {
   "display_name": "Python 3",
   "language": "python",
   "name": "python3"
  },
  "language_info": {
   "codemirror_mode": {
    "name": "ipython",
    "version": 3
   },
   "file_extension": ".py",
   "mimetype": "text/x-python",
   "name": "python",
   "nbconvert_exporter": "python",
   "pygments_lexer": "ipython3",
   "version": "3.7.6"
  }
 },
 "nbformat": 4,
 "nbformat_minor": 4
}
