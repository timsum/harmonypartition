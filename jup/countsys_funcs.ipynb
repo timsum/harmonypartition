{
 "cells": [
  {
   "cell_type": "code",
   "execution_count": 1,
   "metadata": {},
   "outputs": [],
   "source": [
    "def v2r(n, base): # value to representation\n",
    "    \"\"\"Convert a positive number to its digit representation in a custom base.\"\"\"\n",
    "    if n == 0: return base[0]\n",
    "    b = len(base)\n",
    "    digits = ''\n",
    "    while n > 0:\n",
    "        digits = base[n % b] + digits\n",
    "        n  = n // b\n",
    "    return digits\n",
    "\n",
    "def r2v(digits, base): # representation to value\n",
    "    \"\"\"Compute the number represented by string 'digits' in a custom base.\"\"\"\n",
    "    b = len(base)\n",
    "    n = 0\n",
    "    for d in digits:\n",
    "        n = b * n + base[:b].index(d)\n",
    "    return n\n",
    "    \n",
    "def b2b(digits, base1, base2):\n",
    "    \"\"\"Convert the digits representation of a number from base1 to base2.\"\"\"\n",
    "    return v2r(r2v(digits, base1), base2)"
   ]
  },
  {
   "cell_type": "code",
   "execution_count": 19,
   "metadata": {},
   "outputs": [
    {
     "data": {
      "text/plain": [
       "'1A'"
      ]
     },
     "execution_count": 19,
     "metadata": {},
     "output_type": "execute_result"
    }
   ],
   "source": [
    "v2r(23, '01234567')"
   ]
  },
  {
   "cell_type": "code",
   "execution_count": 42,
   "metadata": {},
   "outputs": [],
   "source": [
    "import numpy as np\n",
    "# a value as a list of possible symbols\n",
    "def val_to_rep(n, base): \n",
    "    \"\"\"Convert a positive number to its digit representation in a custom base.\"\"\"\n",
    "    if n == 0: return base[0]\n",
    "    b = len(base)\n",
    "    digits = []\n",
    "    while n > 0:\n",
    "        digits = [base[n % b]] + digits\n",
    "        n  = n // b\n",
    "    return np.array(digits)\n",
    "\n",
    "# two arrays: digits, base. (Digits must be included in base)\n",
    "def rep_to_val(digits, base): # representation to value\n",
    "    b = len(base)\n",
    "    n = 0\n",
    "    for d in digits:\n",
    "        n = b * n + base[:b].index(d)\n",
    "    return n\n",
    "\n",
    "# three arrays\n",
    "def base_to_base(digits, base1, base2):\n",
    "    \"\"\"Convert the digits representation of a number from base1 to base2.\"\"\"\n",
    "    return val_to_rep(rep_to_val(digits, base1), base2)\n",
    "\n",
    "def val_in_base_num(n, basenum):\n",
    "    return val_to_rep(n, range(basenum))"
   ]
  },
  {
   "cell_type": "code",
   "execution_count": 46,
   "metadata": {},
   "outputs": [
    {
     "data": {
      "text/plain": [
       "array([1, 1, 0, 1])"
      ]
     },
     "execution_count": 46,
     "metadata": {},
     "output_type": "execute_result"
    }
   ],
   "source": [
    "val_to_rep(13, range(2))"
   ]
  },
  {
   "cell_type": "code",
   "execution_count": 47,
   "metadata": {},
   "outputs": [
    {
     "data": {
      "text/plain": [
       "9"
      ]
     },
     "execution_count": 47,
     "metadata": {},
     "output_type": "execute_result"
    }
   ],
   "source": [
    "rep_to_val([1, 3], [0, 1, 2, 3, 4, 5])"
   ]
  },
  {
   "cell_type": "code",
   "execution_count": null,
   "metadata": {},
   "outputs": [],
   "source": []
  }
 ],
 "metadata": {
  "kernelspec": {
   "display_name": "Python 3",
   "language": "python",
   "name": "python3"
  },
  "language_info": {
   "codemirror_mode": {
    "name": "ipython",
    "version": 3
   },
   "file_extension": ".py",
   "mimetype": "text/x-python",
   "name": "python",
   "nbconvert_exporter": "python",
   "pygments_lexer": "ipython3",
   "version": "3.7.6"
  }
 },
 "nbformat": 4,
 "nbformat_minor": 4
}
