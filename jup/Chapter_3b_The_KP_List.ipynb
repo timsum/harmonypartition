{
 "cells": [
  {
   "cell_type": "markdown",
   "metadata": {},
   "source": [
    "# KPDVE lists"
   ]
  },
  {
   "cell_type": "code",
   "execution_count": 10,
   "metadata": {},
   "outputs": [],
   "source": [
    "import pt_keypattern\n",
    "import harmony_state\n",
    "import pt_utils\n",
    "import pt_musicutils\n",
    "import pt_naming_conventions\n",
    "import jupyter_pt_tools as jpt_pt\n",
    "import IPython.display as ipd\n",
    "\n",
    "harmony = harmony_state.harmony_state()"
   ]
  },
  {
   "cell_type": "markdown",
   "metadata": {},
   "source": [
    "## All possibilities... which are not as many as you might think... and reachable"
   ]
  },
  {
   "cell_type": "markdown",
   "metadata": {},
   "source": [
    "Individual pitches are useless without context. \n",
    "\n",
    "Chords are almost as bad, taken alone. \n",
    "\n",
    "But combinations of notes have more readily definable implications.\n",
    "\n",
    "Once we hear a chord, we begin to narrow down the possibilities of what sounds might come next, and what sorts of sounds likely preceded it. \n",
    "\n",
    "For example, the following example finds the modes which contain a C Major chord, and define its function.\n",
    "\n",
    "This process requires only logic operators."
   ]
  },
  {
   "cell_type": "code",
   "execution_count": 18,
   "metadata": {},
   "outputs": [
    {
     "ename": "NameError",
     "evalue": "name 'kpdve' is not defined",
     "output_type": "error",
     "traceback": [
      "\u001b[0;31m---------------------------------------------------------------------------\u001b[0m",
      "\u001b[0;31mNameError\u001b[0m                                 Traceback (most recent call last)",
      "\u001b[0;32m<ipython-input-18-eee9ded7a803>\u001b[0m in \u001b[0;36m<module>\u001b[0;34m\u001b[0m\n\u001b[1;32m      5\u001b[0m \u001b[0;34m\u001b[0m\u001b[0m\n\u001b[1;32m      6\u001b[0m \u001b[0mtonics\u001b[0m \u001b[0;34m=\u001b[0m \u001b[0;34m[\u001b[0m\u001b[0mpt_naming_conventions\u001b[0m\u001b[0;34m.\u001b[0m\u001b[0mconv_tonic_name_for_kpdve\u001b[0m\u001b[0;34m(\u001b[0m\u001b[0mkpdve\u001b[0m\u001b[0;34m)\u001b[0m \u001b[0;32mfor\u001b[0m \u001b[0mkpdve\u001b[0m \u001b[0;32min\u001b[0m \u001b[0mharmony\u001b[0m\u001b[0;34m.\u001b[0m\u001b[0mcurrent_kpdve_list\u001b[0m\u001b[0;34m]\u001b[0m\u001b[0;34m\u001b[0m\u001b[0;34m\u001b[0m\u001b[0m\n\u001b[0;32m----> 7\u001b[0;31m \u001b[0myticks\u001b[0m \u001b[0;34m=\u001b[0m \u001b[0;34m[\u001b[0m\u001b[0mtonics\u001b[0m\u001b[0;34m[\u001b[0m\u001b[0mi\u001b[0m\u001b[0;34m]\u001b[0m \u001b[0;34m+\u001b[0m \u001b[0;34m\" \"\u001b[0m \u001b[0;34m+\u001b[0m \u001b[0mpt_naming_conventions\u001b[0m\u001b[0;34m.\u001b[0m\u001b[0mPATTERN_CONVENTIONAL_NAMES\u001b[0m\u001b[0;34m[\u001b[0m\u001b[0mkpdve\u001b[0m\u001b[0;34m[\u001b[0m\u001b[0mi\u001b[0m\u001b[0;34m]\u001b[0m\u001b[0;34m]\u001b[0m \u001b[0;32mfor\u001b[0m \u001b[0mi\u001b[0m \u001b[0;32min\u001b[0m \u001b[0mrange\u001b[0m\u001b[0;34m(\u001b[0m\u001b[0mlen\u001b[0m\u001b[0;34m(\u001b[0m\u001b[0mharmony\u001b[0m\u001b[0;34m.\u001b[0m\u001b[0mcurrent_kpdve_list\u001b[0m\u001b[0;34m)\u001b[0m\u001b[0;34m)\u001b[0m\u001b[0;34m]\u001b[0m\u001b[0;34m\u001b[0m\u001b[0;34m\u001b[0m\u001b[0m\n\u001b[0m\u001b[1;32m      8\u001b[0m \u001b[0mjpt_pt\u001b[0m\u001b[0;34m.\u001b[0m\u001b[0mmultiple_notegroup_heatmap\u001b[0m\u001b[0;34m(\u001b[0m\u001b[0mmodes\u001b[0m\u001b[0;34m,\u001b[0m \u001b[0myticks\u001b[0m\u001b[0;34m=\u001b[0m\u001b[0myticks\u001b[0m\u001b[0;34m)\u001b[0m\u001b[0;34m\u001b[0m\u001b[0;34m\u001b[0m\u001b[0m\n\u001b[1;32m      9\u001b[0m \u001b[0;34m\u001b[0m\u001b[0m\n",
      "\u001b[0;32m<ipython-input-18-eee9ded7a803>\u001b[0m in \u001b[0;36m<listcomp>\u001b[0;34m(.0)\u001b[0m\n\u001b[1;32m      5\u001b[0m \u001b[0;34m\u001b[0m\u001b[0m\n\u001b[1;32m      6\u001b[0m \u001b[0mtonics\u001b[0m \u001b[0;34m=\u001b[0m \u001b[0;34m[\u001b[0m\u001b[0mpt_naming_conventions\u001b[0m\u001b[0;34m.\u001b[0m\u001b[0mconv_tonic_name_for_kpdve\u001b[0m\u001b[0;34m(\u001b[0m\u001b[0mkpdve\u001b[0m\u001b[0;34m)\u001b[0m \u001b[0;32mfor\u001b[0m \u001b[0mkpdve\u001b[0m \u001b[0;32min\u001b[0m \u001b[0mharmony\u001b[0m\u001b[0;34m.\u001b[0m\u001b[0mcurrent_kpdve_list\u001b[0m\u001b[0;34m]\u001b[0m\u001b[0;34m\u001b[0m\u001b[0;34m\u001b[0m\u001b[0m\n\u001b[0;32m----> 7\u001b[0;31m \u001b[0myticks\u001b[0m \u001b[0;34m=\u001b[0m \u001b[0;34m[\u001b[0m\u001b[0mtonics\u001b[0m\u001b[0;34m[\u001b[0m\u001b[0mi\u001b[0m\u001b[0;34m]\u001b[0m \u001b[0;34m+\u001b[0m \u001b[0;34m\" \"\u001b[0m \u001b[0;34m+\u001b[0m \u001b[0mpt_naming_conventions\u001b[0m\u001b[0;34m.\u001b[0m\u001b[0mPATTERN_CONVENTIONAL_NAMES\u001b[0m\u001b[0;34m[\u001b[0m\u001b[0mkpdve\u001b[0m\u001b[0;34m[\u001b[0m\u001b[0mi\u001b[0m\u001b[0;34m]\u001b[0m\u001b[0;34m]\u001b[0m \u001b[0;32mfor\u001b[0m \u001b[0mi\u001b[0m \u001b[0;32min\u001b[0m \u001b[0mrange\u001b[0m\u001b[0;34m(\u001b[0m\u001b[0mlen\u001b[0m\u001b[0;34m(\u001b[0m\u001b[0mharmony\u001b[0m\u001b[0;34m.\u001b[0m\u001b[0mcurrent_kpdve_list\u001b[0m\u001b[0;34m)\u001b[0m\u001b[0;34m)\u001b[0m\u001b[0;34m]\u001b[0m\u001b[0;34m\u001b[0m\u001b[0;34m\u001b[0m\u001b[0m\n\u001b[0m\u001b[1;32m      8\u001b[0m \u001b[0mjpt_pt\u001b[0m\u001b[0;34m.\u001b[0m\u001b[0mmultiple_notegroup_heatmap\u001b[0m\u001b[0;34m(\u001b[0m\u001b[0mmodes\u001b[0m\u001b[0;34m,\u001b[0m \u001b[0myticks\u001b[0m\u001b[0;34m=\u001b[0m\u001b[0myticks\u001b[0m\u001b[0;34m)\u001b[0m\u001b[0;34m\u001b[0m\u001b[0;34m\u001b[0m\u001b[0m\n\u001b[1;32m      9\u001b[0m \u001b[0;34m\u001b[0m\u001b[0m\n",
      "\u001b[0;31mNameError\u001b[0m: name 'kpdve' is not defined"
     ]
    }
   ],
   "source": [
    "CM_triad = 0b100010010000\n",
    "harmony.change_notegroup(CM_triad)\n",
    "\n",
    "binary_list = [pt_utils.c_chrom_to_f_circle(CM_triad)] + [pt_keypattern.get_binary_KP(kpdve[0], kpdve[1]) for kpdve in harmony.current_kpdve_list]\n",
    "\n",
    "tonics = [pt_naming_conventions.conv_tonic_name_for_kpdve(kpdve) for kpdve in harmony.current_kpdve_list]\n",
    "yticks = [tonics[i] + \" \" + pt_naming_conventions.PATTERN_CONVENTIONAL_NAMES[kpdve[i]] for i in range(len(harmony.current_kpdve_list))]\n",
    "jpt_pt.multiple_notegroup_heatmap(modes, yticks=yticks)\n",
    "\n",
    "patterns = [mode + disp for mode, disp in [pt_musicutils.get_tonic_mode_disp_tuple(kpdve) for kpdve in harmony.current_kpdve_list]]\n",
    "sequence = jpt_pt.link_ordered_wavestep_sequences(patterns, duration=10)\n",
    "sequence += jpt_pt.notegroup_wavepile(CM_triad, duration=10)\n",
    "\n",
    "ipd.Audio(sequence, rate=44100)"
   ]
  },
  {
   "cell_type": "markdown",
   "metadata": {},
   "source": [
    "It's a lot to remember, it would seem. But for a computer, it's as close to nothing as you can get: not a single bit of arithmetic, only logic operations."
   ]
  },
  {
   "cell_type": "markdown",
   "metadata": {},
   "source": [
    "## Finding Chord Function: Backpropagation in miniature, and self-tying knots."
   ]
  },
  {
   "cell_type": "markdown",
   "metadata": {},
   "source": [
    "What results is a dialogue between the unity of a single note and the unity of a seven-note mode. \n",
    "\n",
    "To activate this dialogue we require chords, reaching betwee the singularity of a note and the singularity of a mode. \n",
    "\n",
    "We find chords by measuring the *easiest* way to reach them from whatever sounds preceded them. We do this by considering each note as a possible root in each possible key. The closest key and pattern, reachable in the fewest number of steps, yields the strongest candidate for the chord that functions in our ear. \n",
    "\n",
    "When our ears are active and our minds are lazy, we hear harmony."
   ]
  },
  {
   "cell_type": "code",
   "execution_count": null,
   "metadata": {},
   "outputs": [],
   "source": []
  }
 ],
 "metadata": {
  "kernelspec": {
   "display_name": "Python 3",
   "language": "python",
   "name": "python3"
  },
  "language_info": {
   "codemirror_mode": {
    "name": "ipython",
    "version": 3
   },
   "file_extension": ".py",
   "mimetype": "text/x-python",
   "name": "python",
   "nbconvert_exporter": "python",
   "pygments_lexer": "ipython3",
   "version": "3.7.6"
  }
 },
 "nbformat": 4,
 "nbformat_minor": 4
}
