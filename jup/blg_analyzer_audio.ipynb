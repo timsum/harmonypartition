{
 "cells": [
  {
   "cell_type": "code",
   "execution_count": 1,
   "metadata": {},
   "outputs": [],
   "source": [
    "import jupyter_pt_tools as jpt_pt\n",
    "import IPython.display as ipd\n",
    "import pt_analyzeaudio"
   ]
  },
  {
   "cell_type": "code",
   "execution_count": null,
   "metadata": {},
   "outputs": [],
   "source": [
    "blog_audio_path = \"/Users/timsummers/BlogAudio\"\n",
    "maestro_audio_path = \"/Users/timsummers/AnalysisLibraryAudio/beethoven/\""
   ]
  },
  {
   "cell_type": "code",
   "execution_count": null,
   "metadata": {},
   "outputs": [],
   "source": [
    "filename = \"C_6251_live.wav\"\n",
    "y, sr, X, bin_a, kpdve_a, chroma_a = pt_analyzeaudio.assemble_audio_kpdve_analysis(filename)"
   ]
  },
  {
   "cell_type": "code",
   "execution_count": null,
   "metadata": {},
   "outputs": [],
   "source": [
    "pt_analyzeaudio.graph_audio_file(filename, chroma_threshold=0.6)\n",
    "ipd.Audio(filename)"
   ]
  },
  {
   "cell_type": "code",
   "execution_count": null,
   "metadata": {},
   "outputs": [],
   "source": [
    "pt_analyzeaudio.graph_audio_file(\"C_6251_live.wav\", chroma_threshold=0.50)\n",
    "ipd.Audio(\"C_6251_live.wav\")"
   ]
  },
  {
   "cell_type": "code",
   "execution_count": null,
   "metadata": {},
   "outputs": [],
   "source": [
    "file = blog_audio_path + \"/20201227_C6251m_vln_bass.mp3\"\n",
    "pt_analyzeaudio.graph_audio_file(file, chroma_threshold=0.6)\n",
    "ipd.Audio(file)"
   ]
  },
  {
   "cell_type": "code",
   "execution_count": null,
   "metadata": {},
   "outputs": [],
   "source": [
    "pt_analyzeaudio.graph_audio_file(\"../audio/iGotRhythm_main16.wav\", chroma_threshold=0.6)\n",
    "ipd.Audio(\"../audio/iGotRhythm_main16.wav\")"
   ]
  },
  {
   "cell_type": "code",
   "execution_count": null,
   "metadata": {},
   "outputs": [],
   "source": [
    "file = blog_audio_path + \"/20210101_sine_wave_blues.mp3\"\n",
    "pt_analyzeaudio.graph_audio_file(file, chroma_threshold=0.6)\n",
    "ipd.Audio(file)"
   ]
  },
  {
   "cell_type": "code",
   "execution_count": null,
   "metadata": {},
   "outputs": [],
   "source": []
  }
 ],
 "metadata": {
  "kernelspec": {
   "display_name": "Python 3",
   "language": "python",
   "name": "python3"
  },
  "language_info": {
   "codemirror_mode": {
    "name": "ipython",
    "version": 3
   },
   "file_extension": ".py",
   "mimetype": "text/x-python",
   "name": "python",
   "nbconvert_exporter": "python",
   "pygments_lexer": "ipython3",
   "version": "3.7.6"
  }
 },
 "nbformat": 4,
 "nbformat_minor": 4
}
