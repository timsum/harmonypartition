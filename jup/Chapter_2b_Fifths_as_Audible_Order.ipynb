{
 "cells": [
  {
   "cell_type": "markdown",
   "metadata": {},
   "source": [
    "# Chapter 2: Fifths as Audible and Visible Order"
   ]
  },
  {
   "cell_type": "markdown",
   "metadata": {},
   "source": [
    "***"
   ]
  },
  {
   "cell_type": "markdown",
   "metadata": {},
   "source": [
    "#### Treating the **circle of fifths as the standard for analysis** yields very clear results for analysis and categorization of musical sounds.\n",
    "\n",
    "#### Stated more boldly: harmony turns a computer into a meaningfully ternary device."
   ]
  },
  {
   "cell_type": "markdown",
   "metadata": {},
   "source": [
    "## 1) Changing Key as Bit Shift"
   ]
  },
  {
   "cell_type": "markdown",
   "metadata": {},
   "source": [
    "In the circle of fifths organization, changing key takes on a different aspect -- rather more organized. It is simply a bit shift."
   ]
  },
  {
   "cell_type": "code",
   "execution_count": null,
   "metadata": {},
   "outputs": [],
   "source": [
    "import numpy as np\n",
    "import IPython.display as ipd\n",
    "\n",
    "import jupyter_pt_tools as jpt_pt\n",
    "import pt_utils\n",
    "import pt_musicutils\n",
    "import pt_keypattern\n",
    "import pt_naming_conventions\n",
    "\n",
    "circle_of_fifths = np.array([pt_utils.rotate_bits_right(0b111111100000, i) for i in range(12)])\n",
    "jpt_pt.multiple_notegroup_heatmap(circle_of_fifths, title=\"Bitwise Circle of Fifths\")\n",
    "\n",
    "kpdve_modulation = [[i, 0, 1, 0, 0] for i in range(12)]\n",
    "patterns = [mode + disp for mode, disp in [pt_musicutils.get_tonic_mode_disp_tuple(kpdve) for kpdve in kpdve_modulation]]\n",
    "sequence = jpt_pt.link_ordered_wavestep_sequences(patterns, duration=10)\n",
    "ipd.Audio(sequence, rate=4000)"
   ]
  },
  {
   "cell_type": "markdown",
   "metadata": {},
   "source": [
    "# 2) Latent Harmony in Audio"
   ]
  },
  {
   "cell_type": "markdown",
   "metadata": {},
   "source": [
    "Another interesting side effect is that a tone, acknowledged within a tonality, registers its own disturbances -- primarily caused by its own feedback in the third harmonic, a fifth above. \n",
    "\n",
    "Here is a chromatic analysis of a single tone (C) played on a violin.  Its complex resonances fall largely within the C and the G above it.\n",
    "\n",
    "There are too many systems and too many patterns to count, but the number 3 is ever-present."
   ]
  },
  {
   "cell_type": "code",
   "execution_count": null,
   "metadata": {},
   "outputs": [],
   "source": [
    "import librosa\n",
    "import librosa.display\n",
    "\n",
    "import matplotlib.pyplot as plt\n",
    "\n",
    "filename = \"../audio/violin_c.mp3\"\n",
    "y, sr = librosa.load(filename)\n",
    "chroma_a = librosa.feature.chroma_cens(y=y, sr=sr)"
   ]
  },
  {
   "cell_type": "code",
   "execution_count": null,
   "metadata": {},
   "outputs": [],
   "source": [
    "plt.figure(figsize=(17, 3))\n",
    "librosa.display.specshow(chroma_a)\n",
    "plt.figure(figsize=(17, 3))\n",
    "librosa.display.specshow(jpt_pt.switch_chroma(chroma_a))\n",
    "ipd.Audio(filename)"
   ]
  },
  {
   "cell_type": "markdown",
   "metadata": {},
   "source": [
    "A basic audio analysis of this audio signal (from harmonypartition) shows it to be consistently in C Major (red), reaching toward G (the orange strip above)."
   ]
  },
  {
   "cell_type": "code",
   "execution_count": null,
   "metadata": {},
   "outputs": [],
   "source": [
    "import pt_analyzeaudio\n",
    "pt_analyzeaudio.graph_audio_file(filename, chroma_threshold=0.5, key_orientation=np.array([0,0,1,4,2]))"
   ]
  },
  {
   "cell_type": "markdown",
   "metadata": {},
   "source": [
    "***"
   ]
  },
  {
   "cell_type": "markdown",
   "metadata": {},
   "source": [
    "# Resolving Entropy and Designing harmonic patterns."
   ]
  },
  {
   "cell_type": "markdown",
   "metadata": {},
   "source": [
    "Working from the idea that key changes are mere bit shifts, we can play a few games with simple patterns. They yield results.\n",
    "\n",
    "The last steps on this page are merely suggestive, but that is often a fruitful condition. Music will often multiply itself quickly, given a simple backbone of patterns and systems. This is not a theory: just a potential tool or starting point\n",
    "\n",
    "Consider the resolution of a tritone, as the reduction from a 7-tone to a 5-tone space. "
   ]
  },
  {
   "cell_type": "code",
   "execution_count": null,
   "metadata": {},
   "outputs": [],
   "source": [
    "tritone = 0b1000001000\n",
    "third = 0b0100010000\n",
    "sixth = 0b010000000100\n",
    "\n",
    "sequence = [tritone, third, tritone, sixth]\n",
    "\n",
    "jpt_pt.multiple_notegroup_heatmap(sequence, title=\"resolving tritones in and out\")\n",
    "\n",
    "resolution = jpt_pt.link_wavepile_sequences(sequence)\n",
    "ipd.Audio(resolution, rate=4000)"
   ]
  },
  {
   "cell_type": "markdown",
   "metadata": {},
   "source": [
    "It looks like resolution. It sounds like a resolution. Maybe it is, somehow.\n",
    "\n",
    "And some very simple patterns are just nice. There is a **lot** of room for fooling."
   ]
  },
  {
   "cell_type": "code",
   "execution_count": null,
   "metadata": {},
   "outputs": [],
   "source": [
    "tritone = 0b1001001001\n",
    "third = 0b0110110000\n",
    "third2 = pt_utils.rotate_bits_right(third, 3)\n",
    "third3 = pt_utils.rotate_bits_right(third, 6)\n",
    "third4 = pt_utils.rotate_bits_right(third, 9)\n",
    "\n",
    "sequence = [tritone, third, tritone, third2, tritone, third3, tritone, third4]\n",
    "\n",
    "jpt_pt.multiple_notegroup_heatmap(sequence, title=\"resolution of diminished chords\")\n",
    "\n",
    "resolution = jpt_pt.link_wavepile_sequences(sequence, duration=4)\n",
    "ipd.Audio(resolution, rate=4000)"
   ]
  },
  {
   "cell_type": "markdown",
   "metadata": {},
   "source": [
    "Until you remember that each of these heatmaps represents a **only 12 bits of memory**. And can be used to analyze audio.\n",
    "\n",
    "Then, it would seem, there is a **whole lot** of room for fooling."
   ]
  },
  {
   "cell_type": "code",
   "execution_count": null,
   "metadata": {},
   "outputs": [],
   "source": [
    "c = 0b111111100000\n",
    "fs = 0b11111\n",
    "\n",
    "sequence = [c, fs, c, fs,c, fs,c, fs]\n",
    "\n",
    "jpt_pt.multiple_notegroup_heatmap(sequence, title=\"alternating pentatonic and heptatonic groups\")\n",
    "\n",
    "resolution = jpt_pt.link_wavepile_sequences(sequence, duration=10)\n",
    "ipd.Audio(\"hept_pent.wav\", rate=4000)"
   ]
  }
 ],
 "metadata": {
  "kernelspec": {
   "display_name": "Python 3",
   "language": "python",
   "name": "python3"
  },
  "language_info": {
   "codemirror_mode": {
    "name": "ipython",
    "version": 3
   },
   "file_extension": ".py",
   "mimetype": "text/x-python",
   "name": "python",
   "nbconvert_exporter": "python",
   "pygments_lexer": "ipython3",
   "version": "3.7.6"
  }
 },
 "nbformat": 4,
 "nbformat_minor": 4
}
