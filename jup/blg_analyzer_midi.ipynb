{
 "cells": [
  {
   "cell_type": "code",
   "execution_count": null,
   "metadata": {},
   "outputs": [],
   "source": [
    "import IPython.display as ipd\n",
    "\n",
    "import seaborn as sb\n",
    "import matplotlib.pyplot as plt\n",
    "\n",
    "import jupyter_pt_tools as jpt_pt\n",
    "import pt_analyzeMIDI\n",
    "import pt_keypattern\n",
    "import pt_naming_conventions\n",
    "import pt_analyzeaudio\n",
    "import pt_musicutils\n",
    "\n",
    "import numpy as np"
   ]
  },
  {
   "cell_type": "code",
   "execution_count": null,
   "metadata": {},
   "outputs": [],
   "source": [
    "dur =  4\n",
    "\n",
    "bin_a, kpdve_a = pt_analyzeMIDI.analyze_notation_file(\"../notation/vi_ii_V_I.mid\", beats_per_slice=2)\n",
    "bin_seq1 = [pt_keypattern.get_binary_KPDVE_chord(a_kpdve) for a_kpdve in kpdve_a]\n",
    "funcs = [pt_naming_conventions.chord_function_in_key(a_kpdve) for a_kpdve in kpdve_a]\n",
    "np_bin1 = jpt_pt.horizontal_notegroup_heatmap(bin_seq1, xticks=funcs)\n",
    "\n",
    "sequence1 = jpt_pt.link_wavepile_sequences(bin_seq1, duration=dur)\n",
    "ipd.Audio(sequence1, rate=4000)"
   ]
  },
  {
   "cell_type": "code",
   "execution_count": null,
   "metadata": {},
   "outputs": [],
   "source": [
    "filename = \"test.wav\"\n",
    "jpt_pt.norm_wave_write(sequence1, filename)\n",
    "pt_analyzeaudio.graph_audio_file(filename)"
   ]
  },
  {
   "cell_type": "code",
   "execution_count": null,
   "metadata": {},
   "outputs": [],
   "source": [
    "pt_analyzeaudio.graph_kpdve(kpdve_a)"
   ]
  },
  {
   "cell_type": "code",
   "execution_count": null,
   "metadata": {},
   "outputs": [],
   "source": []
  },
  {
   "cell_type": "code",
   "execution_count": null,
   "metadata": {},
   "outputs": [],
   "source": [
    "bin_a2, kpdve_a2 = pt_analyzeMIDI.analyze_notation_file(\"../notation/Moz545_vi_ii_V_I.mid\", beats_per_slice=0.25)\n",
    "bin_seq2 = [pt_keypattern.get_binary_KPDVE_chord(a_kpdve) for a_kpdve in kpdve_a2]\n",
    "funcs = [pt_naming_conventions.chord_function_in_key(a_kpdve) for a_kpdve in kpdve_a2]\n",
    "np_bin2 = jpt_pt.horizontal_notegroup_heatmap(bin_seq2, xticks=funcs)\n",
    "\n",
    "sequence2 = jpt_pt.link_wavepile_sequences(bin_seq2, duration=dur)\n",
    "ipd.Audio(sequence2, rate=4000)"
   ]
  },
  {
   "cell_type": "code",
   "execution_count": null,
   "metadata": {},
   "outputs": [],
   "source": [
    "pt_analyzeaudio.graph_kpdve(kpdve_a2)"
   ]
  },
  {
   "cell_type": "code",
   "execution_count": null,
   "metadata": {},
   "outputs": [],
   "source": [
    "bin_a, kpdve_a = pt_analyzeMIDI.analyze_notation_file(\"../notation/vi_ii_V_I.mid\", beats_per_slice=0.25)\n",
    "bin_seq1 = [pt_keypattern.get_binary_KPDVE_chord(a_kpdve) for a_kpdve in kpdve_a]\n",
    "funcs = [pt_naming_conventions.chord_function_in_key(a_kpdve) for a_kpdve in kpdve_a]\n",
    "np_bin1 = jpt_pt.horizontal_notegroup_heatmap(bin_seq1, xticks=funcs)\n",
    "\n",
    "np_bin3 = (np_bin1 + np_bin2) / 2"
   ]
  },
  {
   "cell_type": "code",
   "execution_count": null,
   "metadata": {},
   "outputs": [],
   "source": [
    "fig, ax = plt.subplots(figsize=(17, 3))\n",
    "sb.heatmap(np_bin3,\n",
    "               cbar=False, \n",
    "               vmin=0)\n",
    "plt.show()"
   ]
  },
  {
   "cell_type": "code",
   "execution_count": null,
   "metadata": {},
   "outputs": [],
   "source": [
    "pt_analyzeaudio.graph_kpdve(kpdve_a)"
   ]
  },
  {
   "cell_type": "markdown",
   "metadata": {},
   "source": [
    "Johann Sebastian Bach\tPrelude and Fugue in A Minor, WTC II, BWV 889\ttrain\t2013\t2013/ORIG-MIDI_03_7_6_13_Group__MID--AUDIO_10_R1_2013_wav--1.midi\t2013/ORIG-MIDI_03_7_6_13_Group__MID--AUDIO_10_R1_2013_wav--1.wav\t254.6792325"
   ]
  },
  {
   "cell_type": "code",
   "execution_count": null,
   "metadata": {},
   "outputs": [],
   "source": [
    "folder = \"/Users/timsummers/AnalysisLibraryAudio/maestro-v1.0-2.0/\""
   ]
  },
  {
   "cell_type": "code",
   "execution_count": null,
   "metadata": {},
   "outputs": [],
   "source": [
    "folder_path = \"2013/ORIG-MIDI_03_7_6_13_Group__MID--AUDIO_10_R1_2013_wav--1\""
   ]
  },
  {
   "cell_type": "code",
   "execution_count": null,
   "metadata": {},
   "outputs": [],
   "source": [
    "wav_file = folder + folder_path + \".wav\""
   ]
  },
  {
   "cell_type": "code",
   "execution_count": null,
   "metadata": {},
   "outputs": [],
   "source": [
    "pt_analyzeaudio.graph_audio_file(wav_file, key_orientation=np.array([0,3,4,4,3]))\n",
    "ipd.Audio(wav_file)"
   ]
  },
  {
   "cell_type": "code",
   "execution_count": null,
   "metadata": {},
   "outputs": [],
   "source": [
    "midi_file = folder + folder_path + \".midi\""
   ]
  },
  {
   "cell_type": "code",
   "execution_count": null,
   "metadata": {},
   "outputs": [],
   "source": [
    "bin_a, kpdve_a = pt_analyzeMIDI.analyze_notation_file(midi_file, beats_per_slice=0.125)\n",
    "pt_analyzeaudio.graph_kpdve(kpdve_a)"
   ]
  },
  {
   "cell_type": "code",
   "execution_count": null,
   "metadata": {},
   "outputs": [],
   "source": []
  }
 ],
 "metadata": {
  "kernelspec": {
   "display_name": "Python 3",
   "language": "python",
   "name": "python3"
  },
  "language_info": {
   "codemirror_mode": {
    "name": "ipython",
    "version": 3
   },
   "file_extension": ".py",
   "mimetype": "text/x-python",
   "name": "python",
   "nbconvert_exporter": "python",
   "pygments_lexer": "ipython3",
   "version": "3.7.6"
  }
 },
 "nbformat": 4,
 "nbformat_minor": 4
}
