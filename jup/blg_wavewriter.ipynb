{
 "cells": [
  {
   "cell_type": "markdown",
   "metadata": {},
   "source": [
    "# Wavewriter"
   ]
  },
  {
   "cell_type": "markdown",
   "metadata": {},
   "source": [
    "a page for generating .wav playalong files over harmonic sequences.  Simple sine waves for now."
   ]
  },
  {
   "cell_type": "code",
   "execution_count": null,
   "metadata": {},
   "outputs": [],
   "source": [
    "#general\n",
    "import numpy as np\n",
    "import IPython.display as ipd\n",
    "# local\n",
    "import jupyter_pt_tools as jpt_pt\n",
    "import pt_naming_conventions\n",
    "import pt_musicutils\n",
    "import pt_utils\n",
    "import pt_analyzeaudio\n",
    "import pt_keypattern\n",
    "\n",
    "from harmony_state import harmony_state"
   ]
  },
  {
   "cell_type": "code",
   "execution_count": 1,
   "metadata": {},
   "outputs": [
    {
     "data": {
      "text/plain": [
       "(['3^0/2^0',\n",
       "  '3^1/2^1',\n",
       "  '3^2/2^3',\n",
       "  '3^3/2^4',\n",
       "  '3^4/2^6',\n",
       "  '3^5/2^7',\n",
       "  '3^6/2^9',\n",
       "  '3^7/2^11',\n",
       "  '3^8/2^12',\n",
       "  '3^9/2^14',\n",
       "  '3^10/2^15',\n",
       "  '3^11/2^17'],\n",
       " [1.0,\n",
       "  1.5,\n",
       "  1.125,\n",
       "  1.6875,\n",
       "  1.265625,\n",
       "  1.8984375,\n",
       "  1.423828125,\n",
       "  1.06787109375,\n",
       "  1.601806640625,\n",
       "  1.20135498046875,\n",
       "  1.802032470703125,\n",
       "  1.3515243530273438])"
      ]
     },
     "execution_count": 1,
     "metadata": {},
     "output_type": "execute_result"
    }
   ],
   "source": [
    "# tools for showing circle of fifths...\n",
    "\n",
    "def circle_ratio_ticks(freq=261.625):\n",
    "    ticks = ['freq']\n",
    "    freqs = [freq]\n",
    "    two_mults = [2 * (i%2 + 1) for i in range(6)]\n",
    "    two_mults = two_mults + two_mults[1:]\n",
    "    for i in range(11):\n",
    "        ticks.append(\"* 3 / \" + str(two_mults[i]))\n",
    "    \n",
    "    return ticks, freqs\n",
    "\n",
    "def circle_ratios(freq=261.625):\n",
    "    start = 0\n",
    "    ticks = []\n",
    "    freqs = []\n",
    "    two_pow = start\n",
    "    for i in range(12):\n",
    "        ticks.append(\"3^\" + str(i) + \"/2^\" + str(two_pow))\n",
    "        freqs.append(float(3**i) / float(2**two_pow))\n",
    "        if i < 6:\n",
    "            two_pow = two_pow + 1 + i%2\n",
    "        else:\n",
    "            two_pow = two_pow + 1 + (i+1)%2\n",
    " \n",
    "    return ticks, freqs\n",
    "\n",
    "def freq_for_circle_pitch_num(freq=261.625, circlenum=0):\n",
    "    '''\n",
    "    get a pure 3/2 ratio pitch\n",
    "\n",
    "    '''\n",
    "    freqs = [1.0,\n",
    "             1.5,  \n",
    "             1.125,  \n",
    "             1.6875,  \n",
    "             1.265625,  \n",
    "             1.8984375,  \n",
    "             1.423828125,  \n",
    "             1.06787109375,  \n",
    "             1.601806640625,  \n",
    "             1.20135498046875,  \n",
    "             1.802032470703125,  \n",
    "             1.3515243530273438]\n",
    "\n",
    "circle_ratios()"
   ]
  },
  {
   "cell_type": "code",
   "execution_count": null,
   "metadata": {},
   "outputs": [],
   "source": [
    "h = harmony_state(np.array([0,0,1,4,3]))\n",
    "blues_param_filters = [np.array([0, 0]), \n",
    "                 np.array([2, -1]),\n",
    "                 np.array([2, 1]),\n",
    "                 np.array([1, -1]),\n",
    "                 \n",
    "                 np.array([2, -1]),\n",
    "                 np.array([1, 1]), \n",
    "                 np.array([2, 1]),\n",
    "                 np.array([1, -1]), \n",
    "                 \n",
    "                 np.array([2, 1]), \n",
    "                 np.array([2, -2]),\n",
    "                 np.array([2, 1]), \n",
    "                 np.array([1, -3])\n",
    "                ]\n",
    "blues_ii = []\n",
    "for a_filter in blues_param_filters:\n",
    "    h.param_increment(a_filter[0], a_filter[1])\n",
    "    blues_ii.append(h.current_kpdve)\n",
    "    \n",
    "blues_ii"
   ]
  },
  {
   "cell_type": "code",
   "execution_count": null,
   "metadata": {},
   "outputs": [],
   "source": [
    "def sequence_maker(start_kpdve, shift_filter, seq_length, add_bar=False):\n",
    "    seq = np.array([pt_utils.kpdve_add(start_kpdve, shift_filter* i) for i in range(seq_length)])\n",
    "    if add_bar == False:\n",
    "        return seq\n",
    "    else:\n",
    "        return extend_sequence(seq, 1)\n",
    "\n",
    "def extend_sequence(seq, n_bars=1):\n",
    "    return np.concatenate((seq, np.array([seq[-n_bars]])), axis=0)\n",
    "    \n",
    "sequence_maker(np.array([0,0,2,4,3]), np.array([0,0,1,0,0]), 3)"
   ]
  },
  {
   "cell_type": "code",
   "execution_count": null,
   "metadata": {},
   "outputs": [],
   "source": [
    "k = 0\n",
    "p = 0\n",
    "d_home = 0\n",
    "k_name = pt_naming_conventions.circle_fifth_notes()[(k + 1)%12]\n",
    "\n",
    "global_temperament=\"just\"\n",
    "\n",
    "six_two_five_one = sequence_maker(np.array([0, 0, 4, 4, 3]), np.array([0, 0, -1, 0, 0]), 4)\n",
    "six_two_five_one_m = sequence_maker(np.array([0, 5, 4, 4, 3]), np.array([0, 0, -1, 0, 0]), 4)\n",
    "six_two_five_one_am = sequence_maker(np.array([0, 3, 0, 4, 3]), np.array([0, 0, -1, 0, 0]), 4)\n",
    "\n",
    "one_dom = 163\n",
    "four_dom = 3171\n",
    "five_dom = 739\n",
    "blues = [one_dom] * 4\n",
    "blues += [four_dom]* 2\n",
    "blues += [one_dom]* 2\n",
    "blues += [five_dom, four_dom]\n",
    "blues += [one_dom] * 2\n",
    "blues_bin = [bin(a) for a in blues]\n",
    "blues_kpdve = [pt_utils.binary_encoding_to_KPDVE(a_num) for a_num in blues]\n",
    "\n",
    "\n",
    "\n",
    "blue_in_green_chords = [46819, 46819, \n",
    "                        46947, 46947,\n",
    "                        48418, 40354, 43235, 43171, \n",
    "                        45091, 45091, \n",
    "                        46947, 46947, \n",
    "                        45347, 45347,\n",
    "                        2341, 2341,\n",
    "                        45924, 45924,\n",
    "                        45347, 45347]\n",
    "blue_in_green_kpdve = [pt_utils.binary_encoding_to_KPDVE(a_num) for a_num in blue_in_green_chords]\n",
    "\n",
    "a_leaves = [4323, 4323, 4259, 4259, 4195, 4195, 4131, 4131, 6051, 6051, 5987, \n",
    "            5987, 5923, 5923, 5923, 5923] * 2 \n",
    "a_leaves += [6051, 6051, 5987, 5987, 5923, 5923, 5923, 5923, 4323, 4323, 4259, \n",
    "             4259, 4195, 4195, 4131, 4131] \n",
    "a_leaves += [6051, 6051, 5987, 5987, 5923, 29411, 7331, 31843, 7203, 7203, 5987, \n",
    "             5987, 5923, 5923, 5923, 5923]\n",
    "autumn_leaves_kpdve = [pt_utils.binary_encoding_to_KPDVE(a_num) for a_num in a_leaves]\n",
    "\n",
    "two_five_one = sequence_maker(np.array([0, 0, 3, 4, 3]), np.array([0, 0, -1, 0, 0]), 3)\n",
    "two_five_one_am = two_five_one + np.array([0, 3, 3, 0, 0])\n",
    "# autumn_leaves_kpdve = np.concatenate((two_five_one, extend_sequence(six_two_five_one_am)), axis=0)\n",
    "# autumn_leaves_kpdve = np.concatenate((autumn_leaves_kpdve, autumn_leaves_kpdve), axis=0) \n",
    "# autumn_leaves_kpdve = extend_sequence(autumn_leaves_kpdve, 4)\n",
    "\n",
    "\n",
    "chart_dict = {\n",
    "    \"251\" :two_five_one,\n",
    "    \"251am\" :two_five_one_am,    \n",
    "    \"6251\" : six_two_five_one,\n",
    "    \"6251m\" : six_two_five_one_m,\n",
    "    \"6251aM\" : six_two_five_one_am,\n",
    "    \"blues\" : blues_kpdve,\n",
    "    \"blues_ii\" : blues_ii,\n",
    "    \"blue_in_green\" : blue_in_green_kpdve,\n",
    "    \"autumn_leaves\" : autumn_leaves_kpdve\n",
    "}\n",
    "\n"
   ]
  },
  {
   "cell_type": "code",
   "execution_count": null,
   "metadata": {},
   "outputs": [],
   "source": [
    "sr = 22500\n",
    "loops = 6\n",
    "loopdur = 25\n",
    "dur = loopdur * loops\n",
    "\n",
    "\n",
    "chart_name = \"blues_ii\"\n",
    "current_chart = chart_dict[chart_name]\n",
    "filename = k_name + \"_\" + chart_name\n",
    "\n",
    "i = 0\n",
    "while i < loops:\n",
    "    current_chart = np.concatenate((current_chart, chart_dict[chart_name]), axis=0)\n",
    "    i += 1\n",
    "\n",
    "bin_seq = [pt_keypattern.get_binary_KPDVE_chord(a_kpdve) for a_kpdve in current_chart]\n",
    "sequence = jpt_pt.link_wavepile_sequences(bin_seq, Fs=sr, duration=dur, temperament=global_temperament)\n",
    "filename = k_name + chart_name + \".wav\"\n",
    "\n",
    "jpt_pt.norm_wave_write(sequence, filename, sr=sr)\n",
    "pt_analyzeaudio.graph_audio_file(filename, chroma_threshold=0.5, key_orientation=current_chart[-1])\n",
    "ipd.Audio(filename, rate=sr)"
   ]
  },
  {
   "cell_type": "code",
   "execution_count": null,
   "metadata": {},
   "outputs": [],
   "source": [
    "pt_analyzeaudio.graph_kpdve(current_chart)"
   ]
  },
  {
   "cell_type": "code",
   "execution_count": null,
   "metadata": {},
   "outputs": [],
   "source": []
  },
  {
   "cell_type": "code",
   "execution_count": null,
   "metadata": {},
   "outputs": [],
   "source": [
    "sequence2 =jpt_pt.link_wavestep_sequences(bin_seq, Fs=sr, duration=dur, temperament=global_temperament)\n",
    "filename = k_name + chart_name + \"_step.wav\"\n",
    "\n",
    "jpt_pt.norm_wave_write(sequence2, filename, sr=sr)\n",
    "pt_analyzeaudio.graph_audio_file(filename, chroma_threshold=0.5, key_orientation=current_chart[-1])\n",
    "ipd.Audio(filename, rate=sr)"
   ]
  },
  {
   "cell_type": "code",
   "execution_count": null,
   "metadata": {},
   "outputs": [],
   "source": [
    "filename = k_name + chart_name + \"_combo.wav\"\n",
    "\n",
    "sequence3 = sequence +  sequence2\n",
    "jpt_pt.norm_wave_write(sequence3, filename, sr=sr)\n",
    "pt_analyzeaudio.graph_audio_file(filename, chroma_threshold=0.5, key_orientation=current_chart[-1])\n",
    "ipd.Audio(filename, rate=sr)"
   ]
  },
  {
   "cell_type": "code",
   "execution_count": null,
   "metadata": {},
   "outputs": [],
   "source": [
    "filename = k_name + chart_name + \"_combo_bass.wav\"\n",
    "\n",
    "bin_seq = [pt_musicutils.circle_root_note_for_KPDVE(a_kpdve) for a_kpdve in current_chart]\n",
    "\n",
    "sequence4 = jpt_pt.link_wavepile_sequences(bin_seq, Fs=sr, duration=dur, from_middle_c=-1, temperament=global_temperament)\n",
    "sequence4 += sequence3\n",
    "jpt_pt.norm_wave_write(sequence4, filename, sr=sr)\n",
    "pt_analyzeaudio.graph_audio_file(filename, chroma_threshold=0.6)\n",
    "ipd.Audio(filename, rate=sr)"
   ]
  },
  {
   "cell_type": "code",
   "execution_count": null,
   "metadata": {},
   "outputs": [],
   "source": [
    "filename = k_name + chart_name + \"_combo_bass_scales.wav\"\n",
    "bin_seq = [pt_keypattern.get_binary_KP(a_kpdve[0], a_kpdve[1]) for a_kpdve in current_chart]\n",
    "\n",
    "sequence5 = jpt_pt.link_wavestep_sequences(bin_seq, Fs=sr, duration=dur, from_middle_c=1, temperament=global_temperament)\n",
    "sequence5 += sequence4\n",
    "jpt_pt.norm_wave_write(sequence5, filename, sr=sr)\n",
    "pt_analyzeaudio.graph_audio_file(filename, chroma_threshold=0.5, key_orientation=current_chart[-1])\n",
    "ipd.Audio(filename, rate=sr)"
   ]
  },
  {
   "cell_type": "code",
   "execution_count": null,
   "metadata": {},
   "outputs": [],
   "source": [
    "c_major = 0b100010010000\n",
    "c_major = pt_utils.c_chrom_to_f_circle(c_major)\n",
    "\n",
    "jpt_pt.notegroup_heatmap(c_major, chromatic=False, title=\"C Major Triad with Circle Fifths Order\")\n",
    "\n",
    "c_major_signal = jpt_pt.notegroup_wavepile(c_major, chromatic=False, temperament=\"just\")\n",
    "jpt_pt.norm_wave_write(c_major_signal, \"cmajor_just.wav\", sr=44100)\n",
    "\n",
    "\n",
    "ipd.Audio(c_major_signal, rate=44100)"
   ]
  },
  {
   "cell_type": "code",
   "execution_count": null,
   "metadata": {},
   "outputs": [],
   "source": []
  }
 ],
 "metadata": {
  "kernelspec": {
   "display_name": "Python 3",
   "language": "python",
   "name": "python3"
  },
  "language_info": {
   "codemirror_mode": {
    "name": "ipython",
    "version": 3
   },
   "file_extension": ".py",
   "mimetype": "text/x-python",
   "name": "python",
   "nbconvert_exporter": "python",
   "pygments_lexer": "ipython3",
   "version": "3.7.6"
  }
 },
 "nbformat": 4,
 "nbformat_minor": 4
}
