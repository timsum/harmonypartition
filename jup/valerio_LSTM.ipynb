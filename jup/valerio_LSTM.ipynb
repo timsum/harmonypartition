{
 "cells": [
  {
   "cell_type": "code",
   "execution_count": 1,
   "metadata": {},
   "outputs": [],
   "source": [
    "import json\n",
    "import numpy as np\n",
    "from sklearn.model_selection import train_test_split\n",
    "import tensorflow.keras as keras\n",
    "import matplotlib.pyplot as plt\n",
    "\n",
    "DATA_PATH = \"data.json\""
   ]
  },
  {
   "cell_type": "code",
   "execution_count": 2,
   "metadata": {},
   "outputs": [],
   "source": [
    "# load data\n",
    "def load_data(dataset_path):\n",
    "    with open(dataset_path, \"r\") as fp:\n",
    "        data = json.load(fp)\n",
    "        \n",
    "    #convert lists to numpy arrays\n",
    "    inputs = np.array(data[\"mfcc\"])\n",
    "    targets = np.array(data[\"labels\"])\n",
    "    \n",
    "    return inputs, targets"
   ]
  },
  {
   "cell_type": "code",
   "execution_count": 3,
   "metadata": {},
   "outputs": [],
   "source": [
    "# create, train, validation and test sets\n",
    "\n",
    "# this is changed from CNN in the following ways:\n",
    "# 1) \n",
    "# 2) removed last dimension of \n",
    "\n",
    "def prepare_datasets(test_size, validation_size):\n",
    "    # load data \n",
    "    X, y = load_data(DATA_PATH)\n",
    "    \n",
    "    # create train/test split\n",
    "    X_train, X_test, y_train, y_test = train_test_split(X, y, test_size=test_size)\n",
    "    \n",
    "    # create train/validation split\n",
    "    X_train, X_validation, y_train, y_validation = train_test_split(X_train, y_train, test_size=validation_size)\n",
    "\n",
    "    return X_train, X_validation, X_test, y_train, y_validation, y_test\n",
    "\n",
    "X_train, X_validation, X_test, y_train, y_validation, y_test = prepare_datasets(0.25, 0.2) # test size, validation size (second is out of remainder from first partition)"
   ]
  },
  {
   "cell_type": "code",
   "execution_count": 6,
   "metadata": {},
   "outputs": [],
   "source": [
    "# build RNN/LSTM networks\n",
    "def build_model(input_shape):\n",
    "    # create model\n",
    "    model = keras.Sequential()\n",
    "    \n",
    "    # RNN/LSTM  numkernels, kernal size, activation\n",
    "    model.add(keras.layers.LSTM(64, input_shape=input_shape, return_sequences=True))\n",
    "    model.add(keras.layers.LSTM(64))\n",
    "    model.add(keras.layers.Dense(64, activation=\"relu\"))\n",
    "    # mitigate overfitting\n",
    "    model.add(keras.layers.Dropout(0.3))\n",
    "    \n",
    "    #ouput\n",
    "    model.add(keras.layers.Dense(10, activation=\"softmax\")) # 10 genres -- get best fit...\n",
    "    \n",
    "    return model\n",
    "              \n",
    "    \n",
    "input_shape = (X_train.shape[1], X_train.shape[2]) # (130, 13) in this case.\n",
    "model = build_model(input_shape)"
   ]
  },
  {
   "cell_type": "code",
   "execution_count": 7,
   "metadata": {},
   "outputs": [],
   "source": [
    "# compile the network\n",
    "optimizer = keras.optimizers.Adam(learning_rate=0.0001)\n",
    "model.compile(optimizer, \n",
    "             loss=\"sparse_categorical_crossentropy\",\n",
    "             metrics=[\"accuracy\"])"
   ]
  },
  {
   "cell_type": "code",
   "execution_count": 8,
   "metadata": {},
   "outputs": [
    {
     "name": "stdout",
     "output_type": "stream",
     "text": [
      "Epoch 1/30\n",
      "188/188 [==============================] - 34s 182ms/step - loss: 2.2038 - accuracy: 0.2166 - val_loss: 2.0555 - val_accuracy: 0.3020\n",
      "Epoch 2/30\n",
      "188/188 [==============================] - 31s 164ms/step - loss: 1.9307 - accuracy: 0.3198 - val_loss: 1.7573 - val_accuracy: 0.3647\n",
      "Epoch 3/30\n",
      "188/188 [==============================] - 30s 158ms/step - loss: 1.7279 - accuracy: 0.3910 - val_loss: 1.6071 - val_accuracy: 0.4333\n",
      "Epoch 4/30\n",
      "188/188 [==============================] - 30s 157ms/step - loss: 1.6029 - accuracy: 0.4270 - val_loss: 1.5505 - val_accuracy: 0.4393\n",
      "Epoch 5/30\n",
      "188/188 [==============================] - 29s 156ms/step - loss: 1.5401 - accuracy: 0.4456 - val_loss: 1.4807 - val_accuracy: 0.4620\n",
      "Epoch 6/30\n",
      "188/188 [==============================] - 29s 156ms/step - loss: 1.4801 - accuracy: 0.4709 - val_loss: 1.4224 - val_accuracy: 0.4920\n",
      "Epoch 7/30\n",
      "188/188 [==============================] - 30s 157ms/step - loss: 1.4460 - accuracy: 0.4884 - val_loss: 1.4006 - val_accuracy: 0.4920\n",
      "Epoch 8/30\n",
      "188/188 [==============================] - 33s 175ms/step - loss: 1.3901 - accuracy: 0.5043 - val_loss: 1.3739 - val_accuracy: 0.5100\n",
      "Epoch 9/30\n",
      "188/188 [==============================] - 30s 158ms/step - loss: 1.3688 - accuracy: 0.5126 - val_loss: 1.3546 - val_accuracy: 0.5127\n",
      "Epoch 10/30\n",
      "188/188 [==============================] - 30s 158ms/step - loss: 1.3789 - accuracy: 0.4991 - val_loss: 1.3513 - val_accuracy: 0.5053\n",
      "Epoch 11/30\n",
      "188/188 [==============================] - 30s 159ms/step - loss: 1.3139 - accuracy: 0.5314 - val_loss: 1.3389 - val_accuracy: 0.5080\n",
      "Epoch 12/30\n",
      "188/188 [==============================] - 31s 163ms/step - loss: 1.2965 - accuracy: 0.5376 - val_loss: 1.3216 - val_accuracy: 0.5200\n",
      "Epoch 13/30\n",
      "188/188 [==============================] - 30s 159ms/step - loss: 1.2756 - accuracy: 0.5408 - val_loss: 1.3147 - val_accuracy: 0.5253\n",
      "Epoch 14/30\n",
      "188/188 [==============================] - 30s 161ms/step - loss: 1.2528 - accuracy: 0.5463 - val_loss: 1.3059 - val_accuracy: 0.5360\n",
      "Epoch 15/30\n",
      "188/188 [==============================] - 30s 160ms/step - loss: 1.2358 - accuracy: 0.5591 - val_loss: 1.2892 - val_accuracy: 0.5467\n",
      "Epoch 16/30\n",
      "188/188 [==============================] - 30s 161ms/step - loss: 1.2141 - accuracy: 0.5776 - val_loss: 1.2668 - val_accuracy: 0.5433\n",
      "Epoch 17/30\n",
      "188/188 [==============================] - 30s 159ms/step - loss: 1.1916 - accuracy: 0.5781 - val_loss: 1.2481 - val_accuracy: 0.5620\n",
      "Epoch 18/30\n",
      "188/188 [==============================] - 30s 159ms/step - loss: 1.1706 - accuracy: 0.5943 - val_loss: 1.2380 - val_accuracy: 0.5627\n",
      "Epoch 19/30\n",
      "188/188 [==============================] - 30s 160ms/step - loss: 1.1438 - accuracy: 0.6010 - val_loss: 1.2247 - val_accuracy: 0.5673\n",
      "Epoch 20/30\n",
      "188/188 [==============================] - 30s 159ms/step - loss: 1.1255 - accuracy: 0.6146 - val_loss: 1.2163 - val_accuracy: 0.5627\n",
      "Epoch 21/30\n",
      "188/188 [==============================] - 32s 171ms/step - loss: 1.1146 - accuracy: 0.6176 - val_loss: 1.2178 - val_accuracy: 0.5633\n",
      "Epoch 22/30\n",
      "188/188 [==============================] - 32s 170ms/step - loss: 1.0912 - accuracy: 0.6126 - val_loss: 1.1978 - val_accuracy: 0.5780\n",
      "Epoch 23/30\n",
      "188/188 [==============================] - 30s 160ms/step - loss: 1.0877 - accuracy: 0.6233 - val_loss: 1.2077 - val_accuracy: 0.5893\n",
      "Epoch 24/30\n",
      "188/188 [==============================] - 31s 163ms/step - loss: 1.0695 - accuracy: 0.6340 - val_loss: 1.1909 - val_accuracy: 0.5840\n",
      "Epoch 25/30\n",
      "188/188 [==============================] - 30s 161ms/step - loss: 1.0427 - accuracy: 0.6460 - val_loss: 1.1920 - val_accuracy: 0.5993\n",
      "Epoch 26/30\n",
      "188/188 [==============================] - 30s 162ms/step - loss: 1.0609 - accuracy: 0.6348 - val_loss: 1.3871 - val_accuracy: 0.5327\n",
      "Epoch 27/30\n",
      "188/188 [==============================] - 30s 162ms/step - loss: 1.0644 - accuracy: 0.6286 - val_loss: 1.1834 - val_accuracy: 0.5967\n",
      "Epoch 28/30\n",
      "188/188 [==============================] - 40s 213ms/step - loss: 1.0219 - accuracy: 0.6440 - val_loss: 1.1487 - val_accuracy: 0.5993\n",
      "Epoch 29/30\n",
      "188/188 [==============================] - 31s 166ms/step - loss: 0.9964 - accuracy: 0.6572 - val_loss: 1.1586 - val_accuracy: 0.6013\n",
      "Epoch 30/30\n",
      "188/188 [==============================] - 39s 207ms/step - loss: 0.9814 - accuracy: 0.6638 - val_loss: 1.1573 - val_accuracy: 0.6127\n"
     ]
    },
    {
     "data": {
      "text/plain": [
       "<tensorflow.python.keras.callbacks.History at 0x7fa3c6cfd350>"
      ]
     },
     "execution_count": 8,
     "metadata": {},
     "output_type": "execute_result"
    }
   ],
   "source": [
    "# train the CNN \n",
    "model.fit(X_train, y_train, validation_data=(X_validation, y_validation), batch_size=32, epochs=30)"
   ]
  },
  {
   "cell_type": "code",
   "execution_count": 7,
   "metadata": {},
   "outputs": [
    {
     "name": "stdout",
     "output_type": "stream",
     "text": [
      "79/79 [==============================] - 1s 10ms/step - loss: 0.8386 - accuracy: 0.7091\n",
      "accuracy on test set is 0.709083616733551\n"
     ]
    }
   ],
   "source": [
    "# evaluate CNN on the test set\n",
    "test_error, test_accuracy = model.evaluate(X_test, y_test, verbose=1)\n",
    "print(\"accuracy on test set is {}\".format(test_accuracy))"
   ]
  },
  {
   "cell_type": "code",
   "execution_count": 10,
   "metadata": {},
   "outputs": [
    {
     "name": "stdout",
     "output_type": "stream",
     "text": [
      "expected index: 5, predicted: [5]\n"
     ]
    }
   ],
   "source": [
    "# make prediction on a sample\n",
    "def predict(model, X, y):\n",
    "    # X is 3-dim (13, 13, 1) BUT needs an extra dim at the beginning to specify num samples we want to predict\n",
    "    X = X[np.newaxis, ...]\n",
    "    \n",
    "    # prediction [[softmax results]] ... so... \n",
    "    prediction = model.predict(X) \n",
    "    \n",
    "    #extract max index\n",
    "    predicted_index = np.argmax(prediction, axis=1) # yeilds [3], e.g.\n",
    "    \n",
    "    print(\"expected index: {}, predicted: {}\".format(y, predicted_index))\n",
    "    return predicted_index[0]"
   ]
  },
  {
   "cell_type": "code",
   "execution_count": 21,
   "metadata": {},
   "outputs": [
    {
     "name": "stdout",
     "output_type": "stream",
     "text": [
      "expected index: 8, predicted: [8]\n"
     ]
    }
   ],
   "source": [
    "X = X_test[500]\n",
    "y = y_test[500]\n",
    "\n",
    "index = predict(model, X, y)"
   ]
  },
  {
   "cell_type": "code",
   "execution_count": 17,
   "metadata": {},
   "outputs": [],
   "source": [
    "with open(DATA_PATH, \"r\") as fp:\n",
    "    data = json.load(fp)"
   ]
  },
  {
   "cell_type": "code",
   "execution_count": 22,
   "metadata": {},
   "outputs": [
    {
     "data": {
      "text/plain": [
       "'country'"
      ]
     },
     "execution_count": 22,
     "metadata": {},
     "output_type": "execute_result"
    }
   ],
   "source": [
    "data[\"mapping\"][index]"
   ]
  },
  {
   "cell_type": "code",
   "execution_count": 26,
   "metadata": {},
   "outputs": [
    {
     "ename": "NameError",
     "evalue": "name 'pt_musicutils' is not defined",
     "output_type": "error",
     "traceback": [
      "\u001b[0;31m---------------------------------------------------------------------------\u001b[0m",
      "\u001b[0;31mNameError\u001b[0m                                 Traceback (most recent call last)",
      "\u001b[0;32m<ipython-input-26-867cd6ebf2c2>\u001b[0m in \u001b[0;36m<module>\u001b[0;34m\u001b[0m\n\u001b[1;32m      2\u001b[0m \u001b[0;34m\u001b[0m\u001b[0m\n\u001b[1;32m      3\u001b[0m \u001b[0mbin_a\u001b[0m\u001b[0;34m,\u001b[0m \u001b[0mkpdve_a\u001b[0m \u001b[0;34m=\u001b[0m \u001b[0mpt_analyzeaudio\u001b[0m\u001b[0;34m.\u001b[0m\u001b[0mkpdve_analyze_audiofile\u001b[0m\u001b[0;34m(\u001b[0m\u001b[0maudiofile\u001b[0m\u001b[0;34m)\u001b[0m\u001b[0;34m\u001b[0m\u001b[0;34m\u001b[0m\u001b[0m\n\u001b[0;32m----> 4\u001b[0;31m \u001b[0mjpt_pt\u001b[0m\u001b[0;34m.\u001b[0m\u001b[0mbin_a_kpdve_a_heatmap\u001b[0m\u001b[0;34m(\u001b[0m\u001b[0mbin_a\u001b[0m\u001b[0;34m,\u001b[0m \u001b[0mkpdve_a\u001b[0m\u001b[0;34m,\u001b[0m \u001b[0mtitle\u001b[0m\u001b[0;34m=\u001b[0m\u001b[0;32mNone\u001b[0m\u001b[0;34m)\u001b[0m\u001b[0;34m\u001b[0m\u001b[0;34m\u001b[0m\u001b[0m\n\u001b[0m",
      "\u001b[0;32m~/GitHub/harmonypartition/jup/jupyter_pt_tools.py\u001b[0m in \u001b[0;36mbin_a_kpdve_a_heatmap\u001b[0;34m(bin_a, kpdve_a, title)\u001b[0m\n\u001b[1;32m    241\u001b[0m \u001b[0;34m\u001b[0m\u001b[0m\n\u001b[1;32m    242\u001b[0m \u001b[0;32mdef\u001b[0m \u001b[0mbin_a_kpdve_a_heatmap\u001b[0m\u001b[0;34m(\u001b[0m\u001b[0mbin_a\u001b[0m\u001b[0;34m,\u001b[0m \u001b[0mkpdve_a\u001b[0m\u001b[0;34m,\u001b[0m \u001b[0mtitle\u001b[0m\u001b[0;34m=\u001b[0m\u001b[0;32mNone\u001b[0m\u001b[0;34m)\u001b[0m\u001b[0;34m:\u001b[0m\u001b[0;34m\u001b[0m\u001b[0;34m\u001b[0m\u001b[0m\n\u001b[0;32m--> 243\u001b[0;31m     \u001b[0mdata\u001b[0m\u001b[0;34m,\u001b[0m \u001b[0mmask\u001b[0m \u001b[0;34m=\u001b[0m \u001b[0mdata_and_mask_for_kpdve_a_bin_a_heatmap\u001b[0m\u001b[0;34m(\u001b[0m\u001b[0mkpdve_a\u001b[0m\u001b[0;34m,\u001b[0m \u001b[0mbin_a\u001b[0m\u001b[0;34m)\u001b[0m\u001b[0;34m\u001b[0m\u001b[0;34m\u001b[0m\u001b[0m\n\u001b[0m\u001b[1;32m    244\u001b[0m \u001b[0;34m\u001b[0m\u001b[0m\n\u001b[1;32m    245\u001b[0m     \u001b[0mhue\u001b[0m \u001b[0;34m=\u001b[0m \u001b[0;36m0.27\u001b[0m\u001b[0;34m\u001b[0m\u001b[0;34m\u001b[0m\u001b[0m\n",
      "\u001b[0;32m~/GitHub/harmonypartition/jup/jupyter_pt_tools.py\u001b[0m in \u001b[0;36mdata_and_mask_for_kpdve_a_bin_a_heatmap\u001b[0;34m(kpdve_a, bin_a)\u001b[0m\n\u001b[1;32m    234\u001b[0m     \u001b[0mmask\u001b[0m \u001b[0;34m=\u001b[0m \u001b[0;34m[\u001b[0m\u001b[0;34m]\u001b[0m\u001b[0;34m\u001b[0m\u001b[0;34m\u001b[0m\u001b[0m\n\u001b[1;32m    235\u001b[0m     \u001b[0;32mfor\u001b[0m \u001b[0mk\u001b[0m\u001b[0;34m,\u001b[0m \u001b[0mb\u001b[0m \u001b[0;32min\u001b[0m \u001b[0mzip\u001b[0m\u001b[0;34m(\u001b[0m\u001b[0mkpdve_a\u001b[0m\u001b[0;34m,\u001b[0m \u001b[0mbin_a\u001b[0m\u001b[0;34m)\u001b[0m\u001b[0;34m:\u001b[0m\u001b[0;34m\u001b[0m\u001b[0;34m\u001b[0m\u001b[0m\n\u001b[0;32m--> 236\u001b[0;31m         \u001b[0mcol\u001b[0m\u001b[0;34m,\u001b[0m \u001b[0mmsk\u001b[0m \u001b[0;34m=\u001b[0m \u001b[0mheatmap_col_mask_for_kpdve_bin\u001b[0m\u001b[0;34m(\u001b[0m\u001b[0mk\u001b[0m\u001b[0;34m,\u001b[0m \u001b[0mb\u001b[0m\u001b[0;34m)\u001b[0m\u001b[0;34m\u001b[0m\u001b[0;34m\u001b[0m\u001b[0m\n\u001b[0m\u001b[1;32m    237\u001b[0m         \u001b[0mheatmap\u001b[0m\u001b[0;34m.\u001b[0m\u001b[0mappend\u001b[0m\u001b[0;34m(\u001b[0m\u001b[0mnp\u001b[0m\u001b[0;34m.\u001b[0m\u001b[0mflipud\u001b[0m\u001b[0;34m(\u001b[0m\u001b[0mcol\u001b[0m\u001b[0;34m)\u001b[0m\u001b[0;34m)\u001b[0m\u001b[0;34m\u001b[0m\u001b[0;34m\u001b[0m\u001b[0m\n\u001b[1;32m    238\u001b[0m         \u001b[0mmask\u001b[0m\u001b[0;34m.\u001b[0m\u001b[0mappend\u001b[0m\u001b[0;34m(\u001b[0m\u001b[0mnp\u001b[0m\u001b[0;34m.\u001b[0m\u001b[0mflipud\u001b[0m\u001b[0;34m(\u001b[0m\u001b[0mmsk\u001b[0m\u001b[0;34m)\u001b[0m\u001b[0;34m)\u001b[0m\u001b[0;34m\u001b[0m\u001b[0;34m\u001b[0m\u001b[0m\n",
      "\u001b[0;32m~/GitHub/harmonypartition/jup/jupyter_pt_tools.py\u001b[0m in \u001b[0;36mheatmap_col_mask_for_kpdve_bin\u001b[0;34m(a_kpdve, ng)\u001b[0m\n\u001b[1;32m    212\u001b[0m \u001b[0;34m\u001b[0m\u001b[0m\n\u001b[1;32m    213\u001b[0m \u001b[0;32mdef\u001b[0m \u001b[0mheatmap_col_mask_for_kpdve_bin\u001b[0m\u001b[0;34m(\u001b[0m\u001b[0ma_kpdve\u001b[0m\u001b[0;34m,\u001b[0m \u001b[0mng\u001b[0m\u001b[0;34m)\u001b[0m\u001b[0;34m:\u001b[0m\u001b[0;34m\u001b[0m\u001b[0;34m\u001b[0m\u001b[0m\n\u001b[0;32m--> 214\u001b[0;31m     \u001b[0mk\u001b[0m \u001b[0;34m=\u001b[0m \u001b[0;34m(\u001b[0m\u001b[0mpt_utils\u001b[0m\u001b[0;34m.\u001b[0m\u001b[0msingle_bit_loc\u001b[0m\u001b[0;34m(\u001b[0m\u001b[0mpt_musicutils\u001b[0m\u001b[0;34m.\u001b[0m\u001b[0mcircle_conv_lyd_center_for_KPDVE\u001b[0m\u001b[0;34m(\u001b[0m\u001b[0ma_kpdve\u001b[0m\u001b[0;34m)\u001b[0m\u001b[0;34m)\u001b[0m\u001b[0;34m)\u001b[0m \u001b[0;34m%\u001b[0m \u001b[0;36m12\u001b[0m\u001b[0;34m\u001b[0m\u001b[0;34m\u001b[0m\u001b[0m\n\u001b[0m\u001b[1;32m    215\u001b[0m     \u001b[0mp\u001b[0m \u001b[0;34m=\u001b[0m \u001b[0;34m(\u001b[0m\u001b[0mpt_utils\u001b[0m\u001b[0;34m.\u001b[0m\u001b[0msingle_bit_loc\u001b[0m\u001b[0;34m(\u001b[0m\u001b[0mpt_musicutils\u001b[0m\u001b[0;34m.\u001b[0m\u001b[0mcircle_conv_tonic_for_KPDVE\u001b[0m\u001b[0;34m(\u001b[0m\u001b[0ma_kpdve\u001b[0m\u001b[0;34m)\u001b[0m\u001b[0;34m)\u001b[0m\u001b[0;34m)\u001b[0m \u001b[0;34m%\u001b[0m \u001b[0;36m12\u001b[0m\u001b[0;34m\u001b[0m\u001b[0;34m\u001b[0m\u001b[0m\n\u001b[1;32m    216\u001b[0m     \u001b[0md\u001b[0m \u001b[0;34m=\u001b[0m \u001b[0;34m(\u001b[0m\u001b[0mpt_utils\u001b[0m\u001b[0;34m.\u001b[0m\u001b[0msingle_bit_loc\u001b[0m\u001b[0;34m(\u001b[0m\u001b[0mpt_musicutils\u001b[0m\u001b[0;34m.\u001b[0m\u001b[0mcircle_root_note_for_KPDVE\u001b[0m\u001b[0;34m(\u001b[0m\u001b[0ma_kpdve\u001b[0m\u001b[0;34m)\u001b[0m\u001b[0;34m)\u001b[0m\u001b[0;34m)\u001b[0m \u001b[0;34m%\u001b[0m \u001b[0;36m12\u001b[0m\u001b[0;34m\u001b[0m\u001b[0;34m\u001b[0m\u001b[0m\n",
      "\u001b[0;31mNameError\u001b[0m: name 'pt_musicutils' is not defined"
     ]
    }
   ],
   "source": []
  },
  {
   "cell_type": "code",
   "execution_count": null,
   "metadata": {},
   "outputs": [],
   "source": []
  }
 ],
 "metadata": {
  "kernelspec": {
   "display_name": "Python 3",
   "language": "python",
   "name": "python3"
  },
  "language_info": {
   "codemirror_mode": {
    "name": "ipython",
    "version": 3
   },
   "file_extension": ".py",
   "mimetype": "text/x-python",
   "name": "python",
   "nbconvert_exporter": "python",
   "pygments_lexer": "ipython3",
   "version": "3.7.6"
  }
 },
 "nbformat": 4,
 "nbformat_minor": 4
}
