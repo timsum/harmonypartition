{
 "cells": [
  {
   "cell_type": "code",
   "execution_count": 1,
   "metadata": {},
   "outputs": [],
   "source": [
    "import json\n",
    "import numpy as np\n",
    "from sklearn.model_selection import train_test_split\n",
    "import tensorflow.keras as keras\n",
    "import matplotlib.pyplot as plt\n",
    "\n",
    "DATASET_PATH = \"data.json\"\n"
   ]
  },
  {
   "cell_type": "code",
   "execution_count": 2,
   "metadata": {},
   "outputs": [],
   "source": [
    "# load data\n",
    "def load_data(dataset_path):\n",
    "    with open(dataset_path, \"r\") as fp:\n",
    "        data = json.load(fp)\n",
    "        \n",
    "    #convert lists to numpy arrays\n",
    "    inputs = np.array(data[\"mfcc\"])\n",
    "    targets = np.array(data[\"labels\"])\n",
    "    \n",
    "    return inputs, targets\n",
    "    \n",
    "\n",
    "inputs, targets = load_data(DATASET_PATH)"
   ]
  },
  {
   "cell_type": "code",
   "execution_count": 3,
   "metadata": {},
   "outputs": [],
   "source": [
    "# split to train/test\n",
    "inputs_train, inputs_test, targets_train, targets_test = train_test_split(inputs, targets, test_size=0.3)"
   ]
  },
  {
   "cell_type": "code",
   "execution_count": 6,
   "metadata": {},
   "outputs": [],
   "source": [
    "# build network arch\n",
    "model = keras.Sequential([\n",
    "    # input layer\n",
    "    keras.layers.Flatten(input_shape=(inputs.shape[1], inputs.shape[2])),\n",
    "    \n",
    "    # 1st hidden layers\n",
    "    keras.layers.Dense(512, activation=\"relu\", kernel_regularizer=keras.regularizers.l2(0.001)),\n",
    "    keras.layers.Dropout(0.3),\n",
    "    keras.layers.Dense(256, activation=\"relu\", kernel_regularizer=keras.regularizers.l2(0.001)),\n",
    "    keras.layers.Dropout(0.3),\n",
    "    keras.layers.Dense(64, activation=\"relu\", kernel_regularizer=keras.regularizers.l2(0.001)),\n",
    "    keras.layers.Dropout(0.3),\n",
    "    keras.layers.Dense(10, activation=\"softmax\") # for 10 categories. #neuron with highest value...\n",
    "])\n",
    "\n",
    "# for overfitting\n",
    "# simpler architecture -- brittle result from too many layers or neurons -- overlearns 'ornament' -- no universal rule\n",
    "# data augmentation -- apply transformations to audio files. pitch shifting. time stretching. noise. artificial training samples.\n",
    "# early stopping. stop while you're ahead. rules for stopping.\n",
    "# dropout -- randomly drop neurons while training -- increase robustness -- dropout probability 0.1-0.5... problem-dependent\n",
    "# regularization -- add penalty to error function -- punish large weights -- L1 and L2 \n",
    "#        -- L1 adds lambda * W to loss. L2 minimize squared value, better for complex data... worse for outliers --L2 for audio, generally\n"
   ]
  },
  {
   "cell_type": "code",
   "execution_count": 8,
   "metadata": {},
   "outputs": [
    {
     "name": "stdout",
     "output_type": "stream",
     "text": [
      "Model: \"sequential\"\n",
      "_________________________________________________________________\n",
      "Layer (type)                 Output Shape              Param #   \n",
      "=================================================================\n",
      "flatten_1 (Flatten)          (None, 1690)              0         \n",
      "_________________________________________________________________\n",
      "dense_1 (Dense)              (None, 512)               865792    \n",
      "_________________________________________________________________\n",
      "dropout (Dropout)            (None, 512)               0         \n",
      "_________________________________________________________________\n",
      "dense_2 (Dense)              (None, 256)               131328    \n",
      "_________________________________________________________________\n",
      "dropout_1 (Dropout)          (None, 256)               0         \n",
      "_________________________________________________________________\n",
      "dense_3 (Dense)              (None, 64)                16448     \n",
      "_________________________________________________________________\n",
      "dropout_2 (Dropout)          (None, 64)                0         \n",
      "_________________________________________________________________\n",
      "dense_4 (Dense)              (None, 10)                650       \n",
      "=================================================================\n",
      "Total params: 1,014,218\n",
      "Trainable params: 1,014,218\n",
      "Non-trainable params: 0\n",
      "_________________________________________________________________\n"
     ]
    }
   ],
   "source": [
    "# compile network\n",
    "optimizer = keras.optimizers.Adam(learning_rate=0.0001)\n",
    "model.compile(optimizer=optimizer,\n",
    "             loss=\"sparse_categorical_crossentropy\",\n",
    "             metrics=[\"accuracy\"])\n",
    "model.summary()"
   ]
  },
  {
   "cell_type": "code",
   "execution_count": 9,
   "metadata": {},
   "outputs": [
    {
     "name": "stdout",
     "output_type": "stream",
     "text": [
      "Epoch 1/50\n",
      "219/219 [==============================] - 3s 15ms/step - loss: 27.9273 - accuracy: 0.1606 - val_loss: 4.0136 - val_accuracy: 0.1954\n",
      "Epoch 2/50\n",
      "219/219 [==============================] - 3s 14ms/step - loss: 7.3496 - accuracy: 0.1661 - val_loss: 3.4549 - val_accuracy: 0.1704\n",
      "Epoch 3/50\n",
      "219/219 [==============================] - 3s 14ms/step - loss: 4.7775 - accuracy: 0.1452 - val_loss: 3.4535 - val_accuracy: 0.1364\n",
      "Epoch 4/50\n",
      "219/219 [==============================] - 3s 14ms/step - loss: 4.0390 - accuracy: 0.1395 - val_loss: 3.4541 - val_accuracy: 0.1257\n",
      "Epoch 5/50\n",
      "219/219 [==============================] - 3s 14ms/step - loss: 3.7700 - accuracy: 0.1383 - val_loss: 3.4521 - val_accuracy: 0.1317\n",
      "Epoch 6/50\n",
      "219/219 [==============================] - 3s 14ms/step - loss: 3.6383 - accuracy: 0.1381 - val_loss: 3.4219 - val_accuracy: 0.1450\n",
      "Epoch 7/50\n",
      "219/219 [==============================] - 3s 14ms/step - loss: 3.5791 - accuracy: 0.1431 - val_loss: 3.3910 - val_accuracy: 0.1661\n",
      "Epoch 8/50\n",
      "219/219 [==============================] - 3s 14ms/step - loss: 3.5055 - accuracy: 0.1554 - val_loss: 3.3983 - val_accuracy: 0.1654\n",
      "Epoch 9/50\n",
      "219/219 [==============================] - 3s 14ms/step - loss: 3.4735 - accuracy: 0.1604 - val_loss: 3.3675 - val_accuracy: 0.1784\n",
      "Epoch 10/50\n",
      "219/219 [==============================] - 3s 14ms/step - loss: 3.4198 - accuracy: 0.1728 - val_loss: 3.3372 - val_accuracy: 0.1924\n",
      "Epoch 11/50\n",
      "219/219 [==============================] - 3s 14ms/step - loss: 3.4063 - accuracy: 0.1736 - val_loss: 3.3318 - val_accuracy: 0.1901\n",
      "Epoch 12/50\n",
      "219/219 [==============================] - 3s 14ms/step - loss: 3.3833 - accuracy: 0.1957 - val_loss: 3.3209 - val_accuracy: 0.2001\n",
      "Epoch 13/50\n",
      "219/219 [==============================] - 3s 14ms/step - loss: 3.3457 - accuracy: 0.2139 - val_loss: 3.2841 - val_accuracy: 0.2147\n",
      "Epoch 14/50\n",
      "219/219 [==============================] - 3s 14ms/step - loss: 3.3188 - accuracy: 0.2131 - val_loss: 3.2635 - val_accuracy: 0.2221\n",
      "Epoch 15/50\n",
      "219/219 [==============================] - 3s 14ms/step - loss: 3.2903 - accuracy: 0.2237 - val_loss: 3.2432 - val_accuracy: 0.2234\n",
      "Epoch 16/50\n",
      "219/219 [==============================] - 3s 14ms/step - loss: 3.2644 - accuracy: 0.2208 - val_loss: 3.1976 - val_accuracy: 0.2427\n",
      "Epoch 17/50\n",
      "219/219 [==============================] - 3s 15ms/step - loss: 3.2350 - accuracy: 0.2337 - val_loss: 3.2016 - val_accuracy: 0.2391\n",
      "Epoch 18/50\n",
      "219/219 [==============================] - 3s 15ms/step - loss: 3.2193 - accuracy: 0.2322 - val_loss: 3.1684 - val_accuracy: 0.2421\n",
      "Epoch 19/50\n",
      "219/219 [==============================] - 3s 14ms/step - loss: 3.1888 - accuracy: 0.2327 - val_loss: 3.1461 - val_accuracy: 0.2444\n",
      "Epoch 20/50\n",
      "219/219 [==============================] - 3s 15ms/step - loss: 3.1771 - accuracy: 0.2335 - val_loss: 3.1570 - val_accuracy: 0.2304\n",
      "Epoch 21/50\n",
      "219/219 [==============================] - 3s 14ms/step - loss: 3.1356 - accuracy: 0.2425 - val_loss: 3.1171 - val_accuracy: 0.2474\n",
      "Epoch 22/50\n",
      "219/219 [==============================] - 3s 15ms/step - loss: 3.1103 - accuracy: 0.2430 - val_loss: 3.0967 - val_accuracy: 0.2521\n",
      "Epoch 23/50\n",
      "219/219 [==============================] - 3s 15ms/step - loss: 3.0741 - accuracy: 0.2548 - val_loss: 3.0609 - val_accuracy: 0.2551\n",
      "Epoch 24/50\n",
      "219/219 [==============================] - 3s 15ms/step - loss: 3.0645 - accuracy: 0.2628 - val_loss: 3.0161 - val_accuracy: 0.2744\n",
      "Epoch 25/50\n",
      "219/219 [==============================] - 3s 15ms/step - loss: 3.0277 - accuracy: 0.2603 - val_loss: 3.0324 - val_accuracy: 0.2664\n",
      "Epoch 26/50\n",
      "219/219 [==============================] - 3s 15ms/step - loss: 3.0107 - accuracy: 0.2620 - val_loss: 3.0250 - val_accuracy: 0.2548\n",
      "Epoch 27/50\n",
      "219/219 [==============================] - 4s 18ms/step - loss: 2.9816 - accuracy: 0.2701 - val_loss: 2.9616 - val_accuracy: 0.2678\n",
      "Epoch 28/50\n",
      "219/219 [==============================] - 3s 15ms/step - loss: 2.9628 - accuracy: 0.2694 - val_loss: 2.9599 - val_accuracy: 0.2691\n",
      "Epoch 29/50\n",
      "219/219 [==============================] - 3s 14ms/step - loss: 2.9118 - accuracy: 0.2761 - val_loss: 2.9250 - val_accuracy: 0.2851\n",
      "Epoch 30/50\n",
      "219/219 [==============================] - 3s 14ms/step - loss: 2.8792 - accuracy: 0.2884 - val_loss: 2.8701 - val_accuracy: 0.3061\n",
      "Epoch 31/50\n",
      "219/219 [==============================] - 3s 14ms/step - loss: 2.8640 - accuracy: 0.2991 - val_loss: 2.8400 - val_accuracy: 0.3058\n",
      "Epoch 32/50\n",
      "219/219 [==============================] - 3s 14ms/step - loss: 2.8282 - accuracy: 0.2957 - val_loss: 2.7886 - val_accuracy: 0.3191\n",
      "Epoch 33/50\n",
      "219/219 [==============================] - 3s 14ms/step - loss: 2.8027 - accuracy: 0.3016 - val_loss: 2.8000 - val_accuracy: 0.3164\n",
      "Epoch 34/50\n",
      "219/219 [==============================] - 3s 14ms/step - loss: 2.7659 - accuracy: 0.3090 - val_loss: 2.7692 - val_accuracy: 0.3311\n",
      "Epoch 35/50\n",
      "219/219 [==============================] - 3s 15ms/step - loss: 2.7355 - accuracy: 0.3166 - val_loss: 2.7152 - val_accuracy: 0.3284\n",
      "Epoch 36/50\n",
      "219/219 [==============================] - 3s 15ms/step - loss: 2.6945 - accuracy: 0.3163 - val_loss: 2.6887 - val_accuracy: 0.3311\n",
      "Epoch 37/50\n",
      "219/219 [==============================] - 3s 14ms/step - loss: 2.6818 - accuracy: 0.3214 - val_loss: 2.6795 - val_accuracy: 0.3428\n",
      "Epoch 38/50\n",
      "219/219 [==============================] - 3s 14ms/step - loss: 2.6420 - accuracy: 0.3286 - val_loss: 2.6779 - val_accuracy: 0.3348\n",
      "Epoch 39/50\n",
      "219/219 [==============================] - 3s 15ms/step - loss: 2.6003 - accuracy: 0.3351 - val_loss: 2.6343 - val_accuracy: 0.3291\n",
      "Epoch 40/50\n",
      "219/219 [==============================] - 3s 15ms/step - loss: 2.5802 - accuracy: 0.3360 - val_loss: 2.5865 - val_accuracy: 0.3471\n",
      "Epoch 41/50\n",
      "219/219 [==============================] - 3s 14ms/step - loss: 2.5262 - accuracy: 0.3493 - val_loss: 2.5471 - val_accuracy: 0.3551\n",
      "Epoch 42/50\n",
      "219/219 [==============================] - 3s 14ms/step - loss: 2.5159 - accuracy: 0.3423 - val_loss: 2.5442 - val_accuracy: 0.3471\n",
      "Epoch 43/50\n",
      "219/219 [==============================] - 3s 14ms/step - loss: 2.4688 - accuracy: 0.3569 - val_loss: 2.4921 - val_accuracy: 0.3531\n",
      "Epoch 44/50\n",
      "219/219 [==============================] - 3s 14ms/step - loss: 2.4436 - accuracy: 0.3574 - val_loss: 2.4706 - val_accuracy: 0.3708\n",
      "Epoch 45/50\n",
      "219/219 [==============================] - 3s 15ms/step - loss: 2.4074 - accuracy: 0.3712 - val_loss: 2.4670 - val_accuracy: 0.3968\n",
      "Epoch 46/50\n",
      "219/219 [==============================] - 3s 14ms/step - loss: 2.3780 - accuracy: 0.3739 - val_loss: 2.4162 - val_accuracy: 0.3718\n",
      "Epoch 47/50\n",
      "219/219 [==============================] - 3s 14ms/step - loss: 2.3452 - accuracy: 0.3806 - val_loss: 2.3957 - val_accuracy: 0.3878\n",
      "Epoch 48/50\n",
      "219/219 [==============================] - 3s 14ms/step - loss: 2.3048 - accuracy: 0.3840 - val_loss: 2.3844 - val_accuracy: 0.3978\n",
      "Epoch 49/50\n",
      "219/219 [==============================] - 3s 16ms/step - loss: 2.2695 - accuracy: 0.3920 - val_loss: 2.3578 - val_accuracy: 0.3945\n",
      "Epoch 50/50\n",
      "219/219 [==============================] - 3s 14ms/step - loss: 2.2438 - accuracy: 0.4013 - val_loss: 2.3273 - val_accuracy: 0.3951\n"
     ]
    }
   ],
   "source": [
    "# train network\n",
    "history = model.fit(inputs_train, targets_train, validation_data=(inputs_test, targets_test), epochs=50, batch_size=32)"
   ]
  },
  {
   "cell_type": "code",
   "execution_count": 10,
   "metadata": {},
   "outputs": [
    {
     "data": {
      "image/png": "[encoded data removed]",
      "text/plain": [
       "<Figure size 432x288 with 2 Axes>"
      ]
     },
     "metadata": {
      "needs_background": "light"
     },
     "output_type": "display_data"
    }
   ],
   "source": [
    "#plot accuracy and error over epochs\n",
    "def plot_history(history):\n",
    "    fig, axs = plt.subplots(2)\n",
    "    \n",
    "    #create accuracy subplot\n",
    "    axs[0].plot(history.history[\"accuracy\"], label=\"train accuracy\")\n",
    "    axs[0].plot(history.history[\"val_accuracy\"], label=\"test accuracy\")\n",
    "    axs[0].set_ylabel(\"Accuracy\")\n",
    "    axs[0].legend(loc=\"lower right\")\n",
    "    axs[0].set_title(\"Accuracy Eval\")\n",
    "\n",
    "    axs[1].plot(history.history[\"loss\"], label=\"train error\")\n",
    "    axs[1].plot(history.history[\"val_loss\"], label=\"test error\")\n",
    "    axs[1].set_ylabel(\"Error\")\n",
    "    axs[1].set_xlabel(\"Epoch\")\n",
    "    axs[1].legend(loc=\"lower right\")\n",
    "    axs[1].set_title(\"Error Eval\") \n",
    "    \n",
    "    plt.show()\n",
    "\n",
    "plot_history(history)"
   ]
  },
  {
   "cell_type": "code",
   "execution_count": null,
   "metadata": {},
   "outputs": [],
   "source": []
  }
 ],
 "metadata": {
  "kernelspec": {
   "display_name": "Python 3",
   "language": "python",
   "name": "python3"
  },
  "language_info": {
   "codemirror_mode": {
    "name": "ipython",
    "version": 3
   },
   "file_extension": ".py",
   "mimetype": "text/x-python",
   "name": "python",
   "nbconvert_exporter": "python",
   "pygments_lexer": "ipython3",
   "version": "3.7.6"
  }
 },
 "nbformat": 4,
 "nbformat_minor": 4
}
