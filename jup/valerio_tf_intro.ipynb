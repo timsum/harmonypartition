{
 "cells": [
  {
   "cell_type": "code",
   "execution_count": 1,
   "metadata": {},
   "outputs": [],
   "source": [
    "import numpy as np\n",
    "from random import random\n",
    "import tensorflow as tf # there is also a gpu version... tricker... but see resources online\n",
    "from sklearn.model_selection import train_test_split"
   ]
  },
  {
   "cell_type": "code",
   "execution_count": 2,
   "metadata": {},
   "outputs": [],
   "source": [
    "# array([[0.1, 0.2], [0.2, 0.2]])\n",
    "# array([[0.3], [0.4]])"
   ]
  },
  {
   "cell_type": "code",
   "execution_count": 3,
   "metadata": {},
   "outputs": [],
   "source": [
    "def generate_dataset(num_samples, test_size):\n",
    "    # inputs\n",
    "    x = np.array([[random()/2 for _ in range(2)] for _ in range(num_samples)])\n",
    "    # outputs\n",
    "    y = np.array([[i[0] + i[1]] for i in x])\n",
    "\n",
    "    # training and test sets -- handy function!!\n",
    "    x_train, x_test, y_train, y_test = train_test_split(x, y, test_size=test_size)\n",
    "    return x_train, x_test, y_train, y_test"
   ]
  },
  {
   "cell_type": "code",
   "execution_count": 4,
   "metadata": {},
   "outputs": [],
   "source": [
    "#build model\n",
    "x_train, x_test, y_train, y_test = generate_dataset(5000, 0.3)\n",
    "# print(\"x_test: \\n {}\".format(x_test))\n",
    "\n",
    "#build model: 2-> 5 -> 1 || 2 is the input_dim; five is hidden layers, 1 is output layer\n",
    "model = tf.keras.Sequential([\n",
    "    # dense is fully connected layer...\n",
    "    tf.keras.layers.Dense(5, input_dim=2, activation=\"sigmoid\"),\n",
    "    tf.keras.layers.Dense(1, activation=\"sigmoid\")\n",
    "])\n"
   ]
  },
  {
   "cell_type": "code",
   "execution_count": 5,
   "metadata": {},
   "outputs": [],
   "source": [
    "#compile model\n",
    "optimizer = tf.keras.optimizers.SGD(learning_rate=0.1)\n",
    "model.compile(optimizer=optimizer, loss=\"MSE\") # min-squared error"
   ]
  },
  {
   "cell_type": "code",
   "execution_count": 6,
   "metadata": {},
   "outputs": [
    {
     "name": "stdout",
     "output_type": "stream",
     "text": [
      "Epoch 1/100\n",
      "110/110 [==============================] - 0s 1ms/step - loss: 0.0703\n",
      "Epoch 2/100\n",
      "110/110 [==============================] - 0s 1ms/step - loss: 0.0434\n",
      "Epoch 3/100\n",
      "110/110 [==============================] - 0s 1ms/step - loss: 0.0431\n",
      "Epoch 4/100\n",
      "110/110 [==============================] - 0s 1ms/step - loss: 0.0429\n",
      "Epoch 5/100\n",
      "110/110 [==============================] - 0s 1ms/step - loss: 0.0427\n",
      "Epoch 6/100\n",
      "110/110 [==============================] - 0s 1ms/step - loss: 0.0425\n",
      "Epoch 7/100\n",
      "110/110 [==============================] - 0s 1ms/step - loss: 0.0422\n",
      "Epoch 8/100\n",
      "110/110 [==============================] - 0s 1ms/step - loss: 0.0420\n",
      "Epoch 9/100\n",
      "110/110 [==============================] - 0s 1ms/step - loss: 0.0418\n",
      "Epoch 10/100\n",
      "110/110 [==============================] - 0s 1ms/step - loss: 0.0416\n",
      "Epoch 11/100\n",
      "110/110 [==============================] - 0s 1ms/step - loss: 0.0414\n",
      "Epoch 12/100\n",
      "110/110 [==============================] - 0s 1ms/step - loss: 0.0411\n",
      "Epoch 13/100\n",
      "110/110 [==============================] - 0s 1ms/step - loss: 0.0409\n",
      "Epoch 14/100\n",
      "110/110 [==============================] - 0s 1ms/step - loss: 0.0407\n",
      "Epoch 15/100\n",
      "110/110 [==============================] - 0s 1ms/step - loss: 0.0405\n",
      "Epoch 16/100\n",
      "110/110 [==============================] - 0s 1ms/step - loss: 0.0402\n",
      "Epoch 17/100\n",
      "110/110 [==============================] - 0s 1ms/step - loss: 0.0400\n",
      "Epoch 18/100\n",
      "110/110 [==============================] - 0s 1ms/step - loss: 0.0397\n",
      "Epoch 19/100\n",
      "110/110 [==============================] - 0s 1ms/step - loss: 0.0394\n",
      "Epoch 20/100\n",
      "110/110 [==============================] - 0s 1ms/step - loss: 0.0391\n",
      "Epoch 21/100\n",
      "110/110 [==============================] - 0s 1ms/step - loss: 0.0388\n",
      "Epoch 22/100\n",
      "110/110 [==============================] - 0s 1ms/step - loss: 0.0385\n",
      "Epoch 23/100\n",
      "110/110 [==============================] - 0s 1ms/step - loss: 0.0382\n",
      "Epoch 24/100\n",
      "110/110 [==============================] - 0s 1ms/step - loss: 0.0379\n",
      "Epoch 25/100\n",
      "110/110 [==============================] - 0s 1ms/step - loss: 0.0375\n",
      "Epoch 26/100\n",
      "110/110 [==============================] - 0s 1ms/step - loss: 0.0371\n",
      "Epoch 27/100\n",
      "110/110 [==============================] - 0s 1ms/step - loss: 0.0368\n",
      "Epoch 28/100\n",
      "110/110 [==============================] - 0s 1ms/step - loss: 0.0363\n",
      "Epoch 29/100\n",
      "110/110 [==============================] - 0s 1ms/step - loss: 0.0359\n",
      "Epoch 30/100\n",
      "110/110 [==============================] - 0s 1ms/step - loss: 0.0354\n",
      "Epoch 31/100\n",
      "110/110 [==============================] - 0s 1ms/step - loss: 0.0350\n",
      "Epoch 32/100\n",
      "110/110 [==============================] - 0s 1ms/step - loss: 0.0345\n",
      "Epoch 33/100\n",
      "110/110 [==============================] - 0s 1ms/step - loss: 0.0340\n",
      "Epoch 34/100\n",
      "110/110 [==============================] - 0s 1ms/step - loss: 0.0334\n",
      "Epoch 35/100\n",
      "110/110 [==============================] - 0s 1ms/step - loss: 0.0328\n",
      "Epoch 36/100\n",
      "110/110 [==============================] - 0s 1ms/step - loss: 0.0323\n",
      "Epoch 37/100\n",
      "110/110 [==============================] - 0s 1ms/step - loss: 0.0317\n",
      "Epoch 38/100\n",
      "110/110 [==============================] - 0s 1ms/step - loss: 0.0310\n",
      "Epoch 39/100\n",
      "110/110 [==============================] - 0s 1ms/step - loss: 0.0304\n",
      "Epoch 40/100\n",
      "110/110 [==============================] - 0s 1ms/step - loss: 0.0297\n",
      "Epoch 41/100\n",
      "110/110 [==============================] - 0s 1ms/step - loss: 0.0290\n",
      "Epoch 42/100\n",
      "110/110 [==============================] - 0s 1ms/step - loss: 0.0282\n",
      "Epoch 43/100\n",
      "110/110 [==============================] - 0s 1ms/step - loss: 0.0275\n",
      "Epoch 44/100\n",
      "110/110 [==============================] - 0s 1ms/step - loss: 0.0267\n",
      "Epoch 45/100\n",
      "110/110 [==============================] - 0s 1ms/step - loss: 0.0259\n",
      "Epoch 46/100\n",
      "110/110 [==============================] - 0s 1ms/step - loss: 0.0251\n",
      "Epoch 47/100\n",
      "110/110 [==============================] - 0s 1ms/step - loss: 0.0243\n",
      "Epoch 48/100\n",
      "110/110 [==============================] - 0s 1ms/step - loss: 0.0235\n",
      "Epoch 49/100\n",
      "110/110 [==============================] - 0s 1ms/step - loss: 0.0227\n",
      "Epoch 50/100\n",
      "110/110 [==============================] - 0s 1ms/step - loss: 0.0218\n",
      "Epoch 51/100\n",
      "110/110 [==============================] - 0s 1ms/step - loss: 0.0210\n",
      "Epoch 52/100\n",
      "110/110 [==============================] - 0s 1ms/step - loss: 0.0201\n",
      "Epoch 53/100\n",
      "110/110 [==============================] - 0s 1ms/step - loss: 0.0193\n",
      "Epoch 54/100\n",
      "110/110 [==============================] - 0s 1ms/step - loss: 0.0185\n",
      "Epoch 55/100\n",
      "110/110 [==============================] - 0s 1ms/step - loss: 0.0176\n",
      "Epoch 56/100\n",
      "110/110 [==============================] - 0s 1ms/step - loss: 0.0168\n",
      "Epoch 57/100\n",
      "110/110 [==============================] - 0s 1ms/step - loss: 0.0160\n",
      "Epoch 58/100\n",
      "110/110 [==============================] - 0s 1ms/step - loss: 0.0152\n",
      "Epoch 59/100\n",
      "110/110 [==============================] - 0s 1ms/step - loss: 0.0145\n",
      "Epoch 60/100\n",
      "110/110 [==============================] - 0s 1ms/step - loss: 0.0137\n",
      "Epoch 61/100\n",
      "110/110 [==============================] - 0s 1ms/step - loss: 0.0130\n",
      "Epoch 62/100\n",
      "110/110 [==============================] - 0s 1ms/step - loss: 0.0123\n",
      "Epoch 63/100\n",
      "110/110 [==============================] - 0s 1ms/step - loss: 0.0116\n",
      "Epoch 64/100\n",
      "110/110 [==============================] - 0s 1ms/step - loss: 0.0109\n",
      "Epoch 65/100\n",
      "110/110 [==============================] - 0s 1ms/step - loss: 0.0103\n",
      "Epoch 66/100\n",
      "110/110 [==============================] - 0s 1ms/step - loss: 0.0097\n",
      "Epoch 67/100\n",
      "110/110 [==============================] - 0s 1ms/step - loss: 0.0091\n",
      "Epoch 68/100\n",
      "110/110 [==============================] - 0s 1ms/step - loss: 0.0086\n",
      "Epoch 69/100\n",
      "110/110 [==============================] - 0s 1ms/step - loss: 0.0080\n",
      "Epoch 70/100\n",
      "110/110 [==============================] - 0s 1ms/step - loss: 0.0075\n",
      "Epoch 71/100\n",
      "110/110 [==============================] - 0s 1ms/step - loss: 0.0071\n",
      "Epoch 72/100\n",
      "110/110 [==============================] - 0s 1ms/step - loss: 0.0066\n",
      "Epoch 73/100\n",
      "110/110 [==============================] - 0s 1ms/step - loss: 0.0062\n",
      "Epoch 74/100\n",
      "110/110 [==============================] - 0s 1ms/step - loss: 0.0058\n",
      "Epoch 75/100\n",
      "110/110 [==============================] - 0s 1ms/step - loss: 0.0054\n",
      "Epoch 76/100\n",
      "110/110 [==============================] - 0s 1ms/step - loss: 0.0051\n",
      "Epoch 77/100\n",
      "110/110 [==============================] - 0s 1ms/step - loss: 0.0047\n",
      "Epoch 78/100\n",
      "110/110 [==============================] - 0s 1ms/step - loss: 0.0044\n",
      "Epoch 79/100\n",
      "110/110 [==============================] - 0s 2ms/step - loss: 0.0041\n",
      "Epoch 80/100\n",
      "110/110 [==============================] - 0s 1ms/step - loss: 0.0039\n",
      "Epoch 81/100\n",
      "110/110 [==============================] - 0s 1ms/step - loss: 0.0036\n",
      "Epoch 82/100\n",
      "110/110 [==============================] - 0s 1ms/step - loss: 0.0034\n",
      "Epoch 83/100\n",
      "110/110 [==============================] - 0s 2ms/step - loss: 0.0032\n",
      "Epoch 84/100\n",
      "110/110 [==============================] - 0s 1ms/step - loss: 0.0030\n",
      "Epoch 85/100\n",
      "110/110 [==============================] - 0s 1ms/step - loss: 0.0028\n",
      "Epoch 86/100\n",
      "110/110 [==============================] - 0s 2ms/step - loss: 0.0026\n",
      "Epoch 87/100\n",
      "110/110 [==============================] - 0s 1ms/step - loss: 0.0024\n",
      "Epoch 88/100\n",
      "110/110 [==============================] - 0s 1ms/step - loss: 0.0023\n",
      "Epoch 89/100\n",
      "110/110 [==============================] - 0s 1ms/step - loss: 0.0021\n",
      "Epoch 90/100\n",
      "110/110 [==============================] - 0s 1ms/step - loss: 0.0020\n",
      "Epoch 91/100\n",
      "110/110 [==============================] - 0s 1ms/step - loss: 0.0019\n",
      "Epoch 92/100\n",
      "110/110 [==============================] - 0s 2ms/step - loss: 0.0018\n",
      "Epoch 93/100\n",
      "110/110 [==============================] - 0s 1ms/step - loss: 0.0017\n",
      "Epoch 94/100\n",
      "110/110 [==============================] - 0s 1ms/step - loss: 0.0016\n",
      "Epoch 95/100\n",
      "110/110 [==============================] - 0s 1ms/step - loss: 0.0015\n",
      "Epoch 96/100\n",
      "110/110 [==============================] - 0s 1ms/step - loss: 0.0014\n",
      "Epoch 97/100\n",
      "110/110 [==============================] - 0s 1ms/step - loss: 0.0013\n",
      "Epoch 98/100\n",
      "110/110 [==============================] - 0s 1ms/step - loss: 0.0013\n",
      "Epoch 99/100\n",
      "110/110 [==============================] - 0s 1ms/step - loss: 0.0012\n",
      "Epoch 100/100\n",
      "110/110 [==============================] - 0s 1ms/step - loss: 0.0011\n"
     ]
    },
    {
     "data": {
      "text/plain": [
       "<tensorflow.python.keras.callbacks.History at 0x7fcb0ede5150>"
      ]
     },
     "execution_count": 6,
     "metadata": {},
     "output_type": "execute_result"
    }
   ],
   "source": [
    "#train model\n",
    "model.fit(x_train, y_train, epochs=100)"
   ]
  },
  {
   "cell_type": "code",
   "execution_count": 7,
   "metadata": {},
   "outputs": [
    {
     "name": "stdout",
     "output_type": "stream",
     "text": [
      "Model evaluation:\n",
      "47/47 [==============================] - 0s 982us/step - loss: 0.0011\n"
     ]
    },
    {
     "data": {
      "text/plain": [
       "0.0010533365420997143"
      ]
     },
     "execution_count": 7,
     "metadata": {},
     "output_type": "execute_result"
    }
   ],
   "source": [
    "#evaluate model\n",
    "print(\"Model evaluation:\")\n",
    "model.evaluate(x_test, y_test, verbose=1)"
   ]
  },
  {
   "cell_type": "code",
   "execution_count": 8,
   "metadata": {},
   "outputs": [],
   "source": [
    "#make predictions\n",
    "data = np.array([[0.1, 0.2], [0.2, 0.2]])\n",
    "predictions = model.predict(data)"
   ]
  },
  {
   "cell_type": "code",
   "execution_count": 10,
   "metadata": {},
   "outputs": [
    {
     "name": "stdout",
     "output_type": "stream",
     "text": [
      "0.1 + 0.2 = 0.3155561685562134\n",
      "0.2 + 0.2 = 0.40751245617866516\n"
     ]
    }
   ],
   "source": [
    "for d, p in zip(data, predictions):\n",
    "    print(\"{} + {} = {}\".format(d[0], d[1], p[0]))"
   ]
  },
  {
   "cell_type": "code",
   "execution_count": null,
   "metadata": {},
   "outputs": [],
   "source": []
  }
 ],
 "metadata": {
  "kernelspec": {
   "display_name": "Python 3",
   "language": "python",
   "name": "python3"
  },
  "language_info": {
   "codemirror_mode": {
    "name": "ipython",
    "version": 3
   },
   "file_extension": ".py",
   "mimetype": "text/x-python",
   "name": "python",
   "nbconvert_exporter": "python",
   "pygments_lexer": "ipython3",
   "version": "3.7.6"
  }
 },
 "nbformat": 4,
 "nbformat_minor": 4
}
