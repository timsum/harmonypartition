{
 "cells": [
  {
   "cell_type": "code",
   "execution_count": 44,
   "metadata": {},
   "outputs": [],
   "source": [
    "import numpy as np\n",
    "import pt_utils\n",
    "import partita"
   ]
  },
  {
   "cell_type": "markdown",
   "metadata": {},
   "source": [
    "# functions \n",
    "\n",
    "for investigating a 'dot-product' relationship between binary numbers and powers of three."
   ]
  },
  {
   "cell_type": "code",
   "execution_count": 17,
   "metadata": {},
   "outputs": [],
   "source": [
    "def binary_to_power_of_three(bin_num):\n",
    "    np_conv = pt_utils.binary_notegroup_to_numpy_array(bin_num)\n",
    "    # reverse so that the array goes from low to high like the powers (and like the piano keyboard).\n",
    "    np_conv = np_conv[::-1]\n",
    "    powers_of_three = np.array([3**i for i in range(len(np_conv))])\n",
    "    return np.dot(np_conv, powers_of_three)\n",
    "\n",
    "def reduce_power_of_three_to_octave(pow_three):\n",
    "    while pow_three > 2:\n",
    "        pow_three /=2\n",
    "    return pow_three"
   ]
  },
  {
   "cell_type": "code",
   "execution_count": 39,
   "metadata": {},
   "outputs": [],
   "source": [
    "powers_of_three = np.array([3**i for i in range(12)])"
   ]
  },
  {
   "cell_type": "code",
   "execution_count": 40,
   "metadata": {},
   "outputs": [
    {
     "data": {
      "text/plain": [
       "[1,\n",
       " 1.5,\n",
       " 1.125,\n",
       " 1.6875,\n",
       " 1.265625,\n",
       " 1.8984375,\n",
       " 1.423828125,\n",
       " 1.06787109375,\n",
       " 1.601806640625,\n",
       " 1.20135498046875,\n",
       " 1.802032470703125,\n",
       " 1.3515243530273438]"
      ]
     },
     "execution_count": 40,
     "metadata": {},
     "output_type": "execute_result"
    }
   ],
   "source": [
    "powers_of_three_reduced = [reduce_power_of_three_to_octave(pow_three) for pow_three in powers_of_three]\n",
    "powers_of_three_reduced"
   ]
  },
  {
   "cell_type": "markdown",
   "metadata": {},
   "source": [
    "# notes: \n",
    "\n",
    "all have the same number of decimals as the power of two required to reduce. Except the last, which must be .375 but out of space."
   ]
  },
  {
   "cell_type": "code",
   "execution_count": 41,
   "metadata": {},
   "outputs": [
    {
     "data": {
      "text/plain": [
       "16.92498016357422"
      ]
     },
     "execution_count": 41,
     "metadata": {},
     "output_type": "execute_result"
    }
   ],
   "source": [
    "np.sum(powers_of_three_reduced)"
   ]
  },
  {
   "cell_type": "code",
   "execution_count": 42,
   "metadata": {},
   "outputs": [],
   "source": [
    "cM_bin = 0b111111100000\n",
    "cM = pt_utils.binary_notegroup_to_numpy_array(cM_bin)"
   ]
  },
  {
   "cell_type": "code",
   "execution_count": 43,
   "metadata": {},
   "outputs": [
    {
     "data": {
      "text/plain": [
       "1093"
      ]
     },
     "execution_count": 43,
     "metadata": {},
     "output_type": "execute_result"
    }
   ],
   "source": [
    "np.dot(cM, powers_of_three)"
   ]
  },
  {
   "cell_type": "markdown",
   "metadata": {},
   "source": [
    "To find how many numbers between 0b1 and 0b111111111111 are analyzable as seven notes."
   ]
  },
  {
   "cell_type": "code",
   "execution_count": 59,
   "metadata": {},
   "outputs": [],
   "source": [
    "all_analyses = [partita.analyze_binary_note_input(i) for i in range(0b111111111111)]"
   ]
  },
  {
   "cell_type": "code",
   "execution_count": 60,
   "metadata": {},
   "outputs": [
    {
     "data": {
      "text/plain": [
       "array([[12,  7,  7,  7,  7]])"
      ]
     },
     "execution_count": 60,
     "metadata": {},
     "output_type": "execute_result"
    }
   ],
   "source": [
    "partita.analyze_binary_note_input(0b11111111)"
   ]
  },
  {
   "cell_type": "code",
   "execution_count": 63,
   "metadata": {},
   "outputs": [],
   "source": [
    "positive_analyses = []\n",
    "for analysis in all_analyses:\n",
    "    if np.array_equal(analysis[0], np.array([12,7,7,7,7])):\n",
    "        positive_analyses.append(analysis)"
   ]
  },
  {
   "cell_type": "code",
   "execution_count": 65,
   "metadata": {},
   "outputs": [
    {
     "data": {
      "text/plain": [
       "2708"
      ]
     },
     "execution_count": 65,
     "metadata": {},
     "output_type": "execute_result"
    }
   ],
   "source": [
    "len(positive_analyses)"
   ]
  },
  {
   "cell_type": "code",
   "execution_count": 66,
   "metadata": {},
   "outputs": [
    {
     "data": {
      "text/plain": [
       "4095"
      ]
     },
     "execution_count": 66,
     "metadata": {},
     "output_type": "execute_result"
    }
   ],
   "source": [
    "len(all_analyses)"
   ]
  },
  {
   "cell_type": "markdown",
   "metadata": {},
   "source": [
    "Well, that's a lot of things not being analyzed.  Bitonality is necessary.\n",
    "\n",
    "Then on the other hand, how often does anyone play more than seven notes at once?\n",
    "\n",
    "2707 is prime... 2709 is very ripe"
   ]
  },
  {
   "cell_type": "code",
   "execution_count": null,
   "metadata": {},
   "outputs": [],
   "source": []
  }
 ],
 "metadata": {
  "kernelspec": {
   "display_name": "Python 3",
   "language": "python",
   "name": "python3"
  },
  "language_info": {
   "codemirror_mode": {
    "name": "ipython",
    "version": 3
   },
   "file_extension": ".py",
   "mimetype": "text/x-python",
   "name": "python",
   "nbconvert_exporter": "python",
   "pygments_lexer": "ipython3",
   "version": "3.7.6"
  }
 },
 "nbformat": 4,
 "nbformat_minor": 4
}
