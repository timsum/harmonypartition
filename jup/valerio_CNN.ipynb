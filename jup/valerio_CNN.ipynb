{
 "cells": [
  {
   "cell_type": "code",
   "execution_count": 25,
   "metadata": {},
   "outputs": [],
   "source": [
    "import json\n",
    "import numpy as np\n",
    "from sklearn.model_selection import train_test_split\n",
    "import tensorflow.keras as keras\n",
    "import matplotlib.pyplot as plt\n",
    "\n",
    "DATA_PATH = \"data.json\""
   ]
  },
  {
   "cell_type": "code",
   "execution_count": 2,
   "metadata": {},
   "outputs": [],
   "source": [
    "# load data\n",
    "def load_data(dataset_path):\n",
    "    with open(dataset_path, \"r\") as fp:\n",
    "        data = json.load(fp)\n",
    "        \n",
    "    #convert lists to numpy arrays\n",
    "    inputs = np.array(data[\"mfcc\"])\n",
    "    targets = np.array(data[\"labels\"])\n",
    "    \n",
    "    return inputs, targets"
   ]
  },
  {
   "cell_type": "code",
   "execution_count": 3,
   "metadata": {},
   "outputs": [],
   "source": [
    "# create, train, validation and test sets\n",
    "def prepare_datasets(test_size, validation_size):\n",
    "    # load data \n",
    "    X, y = load_data(DATA_PATH)\n",
    "    \n",
    "    # create train/test split\n",
    "    X_train, X_test, y_train, y_test = train_test_split(X, y, test_size=test_size)\n",
    "    \n",
    "    # create train/validation split\n",
    "    X_train, X_validation, y_train, y_validation = train_test_split(X_train, y_train, test_size=validation_size)\n",
    "\n",
    "    # 3d array for each sample... (130, 13) add one 1 dimension for depth\n",
    "    X_train = X_train[..., np.newaxis] # --> 4d array (num_samples 130, 13, 1)\n",
    "    X_validation = X_validation[..., np.newaxis]\n",
    "    X_test = X_test[..., np.newaxis]\n",
    "\n",
    "    return X_train, X_validation, X_test, y_train, y_validation, y_test\n",
    "\n",
    "X_train, X_validation, X_test, y_train, y_validation, y_test = prepare_datasets(0.25, 0.2) # test size, validation size"
   ]
  },
  {
   "cell_type": "code",
   "execution_count": 4,
   "metadata": {},
   "outputs": [],
   "source": [
    "# build CNN networks\n",
    "def build_model(input_shape):\n",
    "    # create model\n",
    "    model = keras.Sequential()\n",
    "    \n",
    "    # 3 CNN  numkernels, kernal size, activation\n",
    "    # pooling \n",
    "    model.add(keras.layers.Conv2D(32, (3,3), activation=\"relu\", input_shape=input_shape))\n",
    "    model.add(keras.layers.MaxPool2D((3,3), strides=(2,2), padding='same'))\n",
    "    model.add(keras.layers.BatchNormalization()) # a process that normalizes the activations --> speed up training --> more reliable\n",
    "\n",
    "    model.add(keras.layers.Conv2D(32, (3,3), activation=\"relu\", input_shape=input_shape))\n",
    "    model.add(keras.layers.MaxPool2D((3,3), strides=(2,2), padding='same'))\n",
    "    model.add(keras.layers.BatchNormalization()) # a process that normalizes the activations --> speed up training --> more reliable\n",
    "    \n",
    "    model.add(keras.layers.Conv2D(32, (2,2), activation=\"relu\", input_shape=input_shape))\n",
    "    model.add(keras.layers.MaxPool2D((2,2), strides=(2,2), padding='same'))\n",
    "    model.add(keras.layers.BatchNormalization()) # a process that normalizes the activations --> speed up training --> more reliable\n",
    "    \n",
    "    # flatten/dense\n",
    "    model.add(keras.layers.Flatten())\n",
    "    model.add(keras.layers.Dense(64, activation='relu'))\n",
    "    model.add(keras.layers.Dropout(0.3))\n",
    "    \n",
    "    #ouput\n",
    "    model.add(keras.layers.Dense(10, activation=\"softmax\"))\n",
    "    \n",
    "    \n",
    "    return model\n",
    "              \n",
    "    \n",
    "input_shape = (X_train.shape[1], X_train.shape[2], X_train.shape[3])\n",
    "model = build_model(input_shape)"
   ]
  },
  {
   "cell_type": "code",
   "execution_count": 5,
   "metadata": {},
   "outputs": [],
   "source": [
    "# compile the network\n",
    "optimizer = keras.optimizers.Adam(learning_rate=0.0001)\n",
    "model.compile(optimizer, \n",
    "             loss=\"sparse_categorical_crossentropy\",\n",
    "             metrics=[\"accuracy\"])"
   ]
  },
  {
   "cell_type": "code",
   "execution_count": 6,
   "metadata": {},
   "outputs": [
    {
     "name": "stdout",
     "output_type": "stream",
     "text": [
      "Epoch 1/30\n",
      "188/188 [==============================] - 10s 53ms/step - loss: 2.3931 - accuracy: 0.2351 - val_loss: 1.8533 - val_accuracy: 0.3247\n",
      "Epoch 2/30\n",
      "188/188 [==============================] - 12s 62ms/step - loss: 1.8082 - accuracy: 0.3658 - val_loss: 1.5467 - val_accuracy: 0.4507\n",
      "Epoch 3/30\n",
      "188/188 [==============================] - 11s 59ms/step - loss: 1.6212 - accuracy: 0.4269 - val_loss: 1.4116 - val_accuracy: 0.5020\n",
      "Epoch 4/30\n",
      "188/188 [==============================] - 9s 50ms/step - loss: 1.5013 - accuracy: 0.4652 - val_loss: 1.3434 - val_accuracy: 0.5287\n",
      "Epoch 5/30\n",
      "188/188 [==============================] - 9s 50ms/step - loss: 1.4272 - accuracy: 0.4866 - val_loss: 1.2522 - val_accuracy: 0.5613\n",
      "Epoch 6/30\n",
      "188/188 [==============================] - 9s 50ms/step - loss: 1.3383 - accuracy: 0.5233 - val_loss: 1.2219 - val_accuracy: 0.5740\n",
      "Epoch 7/30\n",
      "188/188 [==============================] - 9s 50ms/step - loss: 1.2833 - accuracy: 0.5353 - val_loss: 1.1693 - val_accuracy: 0.5947\n",
      "Epoch 8/30\n",
      "188/188 [==============================] - 10s 51ms/step - loss: 1.2524 - accuracy: 0.5539 - val_loss: 1.1269 - val_accuracy: 0.6027\n",
      "Epoch 9/30\n",
      "188/188 [==============================] - 10s 53ms/step - loss: 1.1989 - accuracy: 0.5726 - val_loss: 1.1070 - val_accuracy: 0.6120\n",
      "Epoch 10/30\n",
      "188/188 [==============================] - 11s 57ms/step - loss: 1.1671 - accuracy: 0.5838 - val_loss: 1.0792 - val_accuracy: 0.6267\n",
      "Epoch 11/30\n",
      "188/188 [==============================] - 10s 54ms/step - loss: 1.1258 - accuracy: 0.6031 - val_loss: 1.0448 - val_accuracy: 0.6307\n",
      "Epoch 12/30\n",
      "188/188 [==============================] - 10s 56ms/step - loss: 1.0909 - accuracy: 0.6086 - val_loss: 1.0359 - val_accuracy: 0.6440\n",
      "Epoch 13/30\n",
      "188/188 [==============================] - 10s 55ms/step - loss: 1.0586 - accuracy: 0.6263 - val_loss: 0.9909 - val_accuracy: 0.6673\n",
      "Epoch 14/30\n",
      "188/188 [==============================] - 10s 55ms/step - loss: 1.0301 - accuracy: 0.6373 - val_loss: 0.9854 - val_accuracy: 0.6640\n",
      "Epoch 15/30\n",
      "188/188 [==============================] - 10s 55ms/step - loss: 0.9993 - accuracy: 0.6485 - val_loss: 0.9602 - val_accuracy: 0.6707\n",
      "Epoch 16/30\n",
      "188/188 [==============================] - 10s 56ms/step - loss: 0.9723 - accuracy: 0.6602 - val_loss: 0.9473 - val_accuracy: 0.6747\n",
      "Epoch 17/30\n",
      "188/188 [==============================] - 11s 56ms/step - loss: 0.9391 - accuracy: 0.6757 - val_loss: 0.9569 - val_accuracy: 0.6680\n",
      "Epoch 18/30\n",
      "188/188 [==============================] - 11s 60ms/step - loss: 0.9177 - accuracy: 0.6793 - val_loss: 0.9366 - val_accuracy: 0.6747\n",
      "Epoch 19/30\n",
      "188/188 [==============================] - 11s 58ms/step - loss: 0.8960 - accuracy: 0.6827 - val_loss: 0.9141 - val_accuracy: 0.6867\n",
      "Epoch 20/30\n",
      "188/188 [==============================] - 11s 58ms/step - loss: 0.8875 - accuracy: 0.6878 - val_loss: 0.9134 - val_accuracy: 0.6880\n",
      "Epoch 21/30\n",
      "188/188 [==============================] - 11s 59ms/step - loss: 0.8526 - accuracy: 0.7050 - val_loss: 0.8927 - val_accuracy: 0.6800\n",
      "Epoch 22/30\n",
      "188/188 [==============================] - 11s 58ms/step - loss: 0.8567 - accuracy: 0.7020 - val_loss: 0.8740 - val_accuracy: 0.7020\n",
      "Epoch 23/30\n",
      "188/188 [==============================] - 11s 59ms/step - loss: 0.8096 - accuracy: 0.7207 - val_loss: 0.8743 - val_accuracy: 0.6900\n",
      "Epoch 24/30\n",
      "188/188 [==============================] - 11s 59ms/step - loss: 0.8077 - accuracy: 0.7160 - val_loss: 0.8647 - val_accuracy: 0.7033\n",
      "Epoch 25/30\n",
      "188/188 [==============================] - 11s 58ms/step - loss: 0.7775 - accuracy: 0.7377 - val_loss: 0.8673 - val_accuracy: 0.7107\n",
      "Epoch 26/30\n",
      "188/188 [==============================] - 12s 64ms/step - loss: 0.7634 - accuracy: 0.7375 - val_loss: 0.8597 - val_accuracy: 0.7067\n",
      "Epoch 27/30\n",
      "188/188 [==============================] - 12s 64ms/step - loss: 0.7523 - accuracy: 0.7390 - val_loss: 0.8563 - val_accuracy: 0.7093\n",
      "Epoch 28/30\n",
      "188/188 [==============================] - 11s 57ms/step - loss: 0.7353 - accuracy: 0.7465 - val_loss: 0.8487 - val_accuracy: 0.7047\n",
      "Epoch 29/30\n",
      "188/188 [==============================] - 10s 53ms/step - loss: 0.7176 - accuracy: 0.7462 - val_loss: 0.8304 - val_accuracy: 0.7147\n",
      "Epoch 30/30\n",
      "188/188 [==============================] - 9s 49ms/step - loss: 0.6954 - accuracy: 0.7615 - val_loss: 0.8409 - val_accuracy: 0.7073\n"
     ]
    },
    {
     "data": {
      "text/plain": [
       "<tensorflow.python.keras.callbacks.History at 0x7f94602d6910>"
      ]
     },
     "execution_count": 6,
     "metadata": {},
     "output_type": "execute_result"
    }
   ],
   "source": [
    "# train the CNN \n",
    "model.fit(X_train, y_train, validation_data=(X_validation, y_validation), batch_size=32, epochs=30)"
   ]
  },
  {
   "cell_type": "code",
   "execution_count": 7,
   "metadata": {},
   "outputs": [
    {
     "name": "stdout",
     "output_type": "stream",
     "text": [
      "79/79 [==============================] - 1s 10ms/step - loss: 0.8386 - accuracy: 0.7091\n",
      "accuracy on test set is 0.709083616733551\n"
     ]
    }
   ],
   "source": [
    "# evaluate CNN on the test set\n",
    "test_error, test_accuracy = model.evaluate(X_test, y_test, verbose=1)\n",
    "print(\"accuracy on test set is {}\".format(test_accuracy))"
   ]
  },
  {
   "cell_type": "code",
   "execution_count": 10,
   "metadata": {},
   "outputs": [
    {
     "name": "stdout",
     "output_type": "stream",
     "text": [
      "expected index: 5, predicted: [5]\n"
     ]
    }
   ],
   "source": [
    "# make prediction on a sample\n",
    "def predict(model, X, y):\n",
    "    # X is 3-dim (13, 13, 1) BUT needs an extra dim at the beginning to specify num samples we want to predict\n",
    "    X = X[np.newaxis, ...]\n",
    "    \n",
    "    # prediction [[softmax results]] ... so... \n",
    "    prediction = model.predict(X) \n",
    "    \n",
    "    #extract max index\n",
    "    predicted_index = np.argmax(prediction, axis=1) # yeilds [3], e.g.\n",
    "    \n",
    "    print(\"expected index: {}, predicted: {}\".format(y, predicted_index))\n",
    "    return predicted_index[0]"
   ]
  },
  {
   "cell_type": "code",
   "execution_count": 21,
   "metadata": {},
   "outputs": [
    {
     "name": "stdout",
     "output_type": "stream",
     "text": [
      "expected index: 8, predicted: [8]\n"
     ]
    }
   ],
   "source": [
    "X = X_test[500]\n",
    "y = y_test[500]\n",
    "\n",
    "index = predict(model, X, y)"
   ]
  },
  {
   "cell_type": "code",
   "execution_count": 17,
   "metadata": {},
   "outputs": [],
   "source": [
    "with open(DATA_PATH, \"r\") as fp:\n",
    "    data = json.load(fp)"
   ]
  },
  {
   "cell_type": "code",
   "execution_count": 22,
   "metadata": {},
   "outputs": [
    {
     "data": {
      "text/plain": [
       "'country'"
      ]
     },
     "execution_count": 22,
     "metadata": {},
     "output_type": "execute_result"
    }
   ],
   "source": [
    "data[\"mapping\"][index]"
   ]
  },
  {
   "cell_type": "code",
   "execution_count": 26,
   "metadata": {},
   "outputs": [
    {
     "ename": "NameError",
     "evalue": "name 'pt_musicutils' is not defined",
     "output_type": "error",
     "traceback": [
      "\u001b[0;31m---------------------------------------------------------------------------\u001b[0m",
      "\u001b[0;31mNameError\u001b[0m                                 Traceback (most recent call last)",
      "\u001b[0;32m<ipython-input-26-867cd6ebf2c2>\u001b[0m in \u001b[0;36m<module>\u001b[0;34m\u001b[0m\n\u001b[1;32m      2\u001b[0m \u001b[0;34m\u001b[0m\u001b[0m\n\u001b[1;32m      3\u001b[0m \u001b[0mbin_a\u001b[0m\u001b[0;34m,\u001b[0m \u001b[0mkpdve_a\u001b[0m \u001b[0;34m=\u001b[0m \u001b[0mpt_analyzeaudio\u001b[0m\u001b[0;34m.\u001b[0m\u001b[0mkpdve_analyze_audiofile\u001b[0m\u001b[0;34m(\u001b[0m\u001b[0maudiofile\u001b[0m\u001b[0;34m)\u001b[0m\u001b[0;34m\u001b[0m\u001b[0;34m\u001b[0m\u001b[0m\n\u001b[0;32m----> 4\u001b[0;31m \u001b[0mjpt_pt\u001b[0m\u001b[0;34m.\u001b[0m\u001b[0mbin_a_kpdve_a_heatmap\u001b[0m\u001b[0;34m(\u001b[0m\u001b[0mbin_a\u001b[0m\u001b[0;34m,\u001b[0m \u001b[0mkpdve_a\u001b[0m\u001b[0;34m,\u001b[0m \u001b[0mtitle\u001b[0m\u001b[0;34m=\u001b[0m\u001b[0;32mNone\u001b[0m\u001b[0;34m)\u001b[0m\u001b[0;34m\u001b[0m\u001b[0;34m\u001b[0m\u001b[0m\n\u001b[0m",
      "\u001b[0;32m~/GitHub/harmonypartition/jup/jupyter_pt_tools.py\u001b[0m in \u001b[0;36mbin_a_kpdve_a_heatmap\u001b[0;34m(bin_a, kpdve_a, title)\u001b[0m\n\u001b[1;32m    241\u001b[0m \u001b[0;34m\u001b[0m\u001b[0m\n\u001b[1;32m    242\u001b[0m \u001b[0;32mdef\u001b[0m \u001b[0mbin_a_kpdve_a_heatmap\u001b[0m\u001b[0;34m(\u001b[0m\u001b[0mbin_a\u001b[0m\u001b[0;34m,\u001b[0m \u001b[0mkpdve_a\u001b[0m\u001b[0;34m,\u001b[0m \u001b[0mtitle\u001b[0m\u001b[0;34m=\u001b[0m\u001b[0;32mNone\u001b[0m\u001b[0;34m)\u001b[0m\u001b[0;34m:\u001b[0m\u001b[0;34m\u001b[0m\u001b[0;34m\u001b[0m\u001b[0m\n\u001b[0;32m--> 243\u001b[0;31m     \u001b[0mdata\u001b[0m\u001b[0;34m,\u001b[0m \u001b[0mmask\u001b[0m \u001b[0;34m=\u001b[0m \u001b[0mdata_and_mask_for_kpdve_a_bin_a_heatmap\u001b[0m\u001b[0;34m(\u001b[0m\u001b[0mkpdve_a\u001b[0m\u001b[0;34m,\u001b[0m \u001b[0mbin_a\u001b[0m\u001b[0;34m)\u001b[0m\u001b[0;34m\u001b[0m\u001b[0;34m\u001b[0m\u001b[0m\n\u001b[0m\u001b[1;32m    244\u001b[0m \u001b[0;34m\u001b[0m\u001b[0m\n\u001b[1;32m    245\u001b[0m     \u001b[0mhue\u001b[0m \u001b[0;34m=\u001b[0m \u001b[0;36m0.27\u001b[0m\u001b[0;34m\u001b[0m\u001b[0;34m\u001b[0m\u001b[0m\n",
      "\u001b[0;32m~/GitHub/harmonypartition/jup/jupyter_pt_tools.py\u001b[0m in \u001b[0;36mdata_and_mask_for_kpdve_a_bin_a_heatmap\u001b[0;34m(kpdve_a, bin_a)\u001b[0m\n\u001b[1;32m    234\u001b[0m     \u001b[0mmask\u001b[0m \u001b[0;34m=\u001b[0m \u001b[0;34m[\u001b[0m\u001b[0;34m]\u001b[0m\u001b[0;34m\u001b[0m\u001b[0;34m\u001b[0m\u001b[0m\n\u001b[1;32m    235\u001b[0m     \u001b[0;32mfor\u001b[0m \u001b[0mk\u001b[0m\u001b[0;34m,\u001b[0m \u001b[0mb\u001b[0m \u001b[0;32min\u001b[0m \u001b[0mzip\u001b[0m\u001b[0;34m(\u001b[0m\u001b[0mkpdve_a\u001b[0m\u001b[0;34m,\u001b[0m \u001b[0mbin_a\u001b[0m\u001b[0;34m)\u001b[0m\u001b[0;34m:\u001b[0m\u001b[0;34m\u001b[0m\u001b[0;34m\u001b[0m\u001b[0m\n\u001b[0;32m--> 236\u001b[0;31m         \u001b[0mcol\u001b[0m\u001b[0;34m,\u001b[0m \u001b[0mmsk\u001b[0m \u001b[0;34m=\u001b[0m \u001b[0mheatmap_col_mask_for_kpdve_bin\u001b[0m\u001b[0;34m(\u001b[0m\u001b[0mk\u001b[0m\u001b[0;34m,\u001b[0m \u001b[0mb\u001b[0m\u001b[0;34m)\u001b[0m\u001b[0;34m\u001b[0m\u001b[0;34m\u001b[0m\u001b[0m\n\u001b[0m\u001b[1;32m    237\u001b[0m         \u001b[0mheatmap\u001b[0m\u001b[0;34m.\u001b[0m\u001b[0mappend\u001b[0m\u001b[0;34m(\u001b[0m\u001b[0mnp\u001b[0m\u001b[0;34m.\u001b[0m\u001b[0mflipud\u001b[0m\u001b[0;34m(\u001b[0m\u001b[0mcol\u001b[0m\u001b[0;34m)\u001b[0m\u001b[0;34m)\u001b[0m\u001b[0;34m\u001b[0m\u001b[0;34m\u001b[0m\u001b[0m\n\u001b[1;32m    238\u001b[0m         \u001b[0mmask\u001b[0m\u001b[0;34m.\u001b[0m\u001b[0mappend\u001b[0m\u001b[0;34m(\u001b[0m\u001b[0mnp\u001b[0m\u001b[0;34m.\u001b[0m\u001b[0mflipud\u001b[0m\u001b[0;34m(\u001b[0m\u001b[0mmsk\u001b[0m\u001b[0;34m)\u001b[0m\u001b[0;34m)\u001b[0m\u001b[0;34m\u001b[0m\u001b[0;34m\u001b[0m\u001b[0m\n",
      "\u001b[0;32m~/GitHub/harmonypartition/jup/jupyter_pt_tools.py\u001b[0m in \u001b[0;36mheatmap_col_mask_for_kpdve_bin\u001b[0;34m(a_kpdve, ng)\u001b[0m\n\u001b[1;32m    212\u001b[0m \u001b[0;34m\u001b[0m\u001b[0m\n\u001b[1;32m    213\u001b[0m \u001b[0;32mdef\u001b[0m \u001b[0mheatmap_col_mask_for_kpdve_bin\u001b[0m\u001b[0;34m(\u001b[0m\u001b[0ma_kpdve\u001b[0m\u001b[0;34m,\u001b[0m \u001b[0mng\u001b[0m\u001b[0;34m)\u001b[0m\u001b[0;34m:\u001b[0m\u001b[0;34m\u001b[0m\u001b[0;34m\u001b[0m\u001b[0m\n\u001b[0;32m--> 214\u001b[0;31m     \u001b[0mk\u001b[0m \u001b[0;34m=\u001b[0m \u001b[0;34m(\u001b[0m\u001b[0mpt_utils\u001b[0m\u001b[0;34m.\u001b[0m\u001b[0msingle_bit_loc\u001b[0m\u001b[0;34m(\u001b[0m\u001b[0mpt_musicutils\u001b[0m\u001b[0;34m.\u001b[0m\u001b[0mcircle_conv_lyd_center_for_KPDVE\u001b[0m\u001b[0;34m(\u001b[0m\u001b[0ma_kpdve\u001b[0m\u001b[0;34m)\u001b[0m\u001b[0;34m)\u001b[0m\u001b[0;34m)\u001b[0m \u001b[0;34m%\u001b[0m \u001b[0;36m12\u001b[0m\u001b[0;34m\u001b[0m\u001b[0;34m\u001b[0m\u001b[0m\n\u001b[0m\u001b[1;32m    215\u001b[0m     \u001b[0mp\u001b[0m \u001b[0;34m=\u001b[0m \u001b[0;34m(\u001b[0m\u001b[0mpt_utils\u001b[0m\u001b[0;34m.\u001b[0m\u001b[0msingle_bit_loc\u001b[0m\u001b[0;34m(\u001b[0m\u001b[0mpt_musicutils\u001b[0m\u001b[0;34m.\u001b[0m\u001b[0mcircle_conv_tonic_for_KPDVE\u001b[0m\u001b[0;34m(\u001b[0m\u001b[0ma_kpdve\u001b[0m\u001b[0;34m)\u001b[0m\u001b[0;34m)\u001b[0m\u001b[0;34m)\u001b[0m \u001b[0;34m%\u001b[0m \u001b[0;36m12\u001b[0m\u001b[0;34m\u001b[0m\u001b[0;34m\u001b[0m\u001b[0m\n\u001b[1;32m    216\u001b[0m     \u001b[0md\u001b[0m \u001b[0;34m=\u001b[0m \u001b[0;34m(\u001b[0m\u001b[0mpt_utils\u001b[0m\u001b[0;34m.\u001b[0m\u001b[0msingle_bit_loc\u001b[0m\u001b[0;34m(\u001b[0m\u001b[0mpt_musicutils\u001b[0m\u001b[0;34m.\u001b[0m\u001b[0mcircle_root_note_for_KPDVE\u001b[0m\u001b[0;34m(\u001b[0m\u001b[0ma_kpdve\u001b[0m\u001b[0;34m)\u001b[0m\u001b[0;34m)\u001b[0m\u001b[0;34m)\u001b[0m \u001b[0;34m%\u001b[0m \u001b[0;36m12\u001b[0m\u001b[0;34m\u001b[0m\u001b[0;34m\u001b[0m\u001b[0m\n",
      "\u001b[0;31mNameError\u001b[0m: name 'pt_musicutils' is not defined"
     ]
    }
   ],
   "source": []
  },
  {
   "cell_type": "code",
   "execution_count": null,
   "metadata": {},
   "outputs": [],
   "source": []
  }
 ],
 "metadata": {
  "kernelspec": {
   "display_name": "Python 3",
   "language": "python",
   "name": "python3"
  },
  "language_info": {
   "codemirror_mode": {
    "name": "ipython",
    "version": 3
   },
   "file_extension": ".py",
   "mimetype": "text/x-python",
   "name": "python",
   "nbconvert_exporter": "python",
   "pygments_lexer": "ipython3",
   "version": "3.7.6"
  }
 },
 "nbformat": 4,
 "nbformat_minor": 4
}
