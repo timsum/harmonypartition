{
 "cells": [
  {
   "cell_type": "markdown",
   "metadata": {},
   "source": [
    "# Finding Chord Function: Backpropagation in miniature, and self-tying knots."
   ]
  },
  {
   "cell_type": "markdown",
   "metadata": {},
   "source": [
    "The KP list shows a non-trivial number of possibilities for the function of many chords. \n",
    "\n",
    "However, it is very possible to find which possible to measure how a chord with a previous harmonic state, and thus to narrow down the *function* of the chord.\n",
    "\n",
    "What results is a fruitful dialogue between the literal monotony of a single note and the chaotic unity of a seven-note mode. \n",
    "\n",
    "---"
   ]
  },
  {
   "cell_type": "code",
   "execution_count": 2,
   "metadata": {},
   "outputs": [],
   "source": [
    "import pt_keypattern\n",
    "import harmony_state\n",
    "import pt_utils\n",
    "import pt_musicutils\n",
    "import pt_naming_conventions\n",
    "import jupyter_pt_tools as jpt_pt\n",
    "import IPython.display as ipd\n",
    "\n",
    "harmony = harmony_state.harmony_state()"
   ]
  },
  {
   "cell_type": "markdown",
   "metadata": {},
   "source": [
    "# Sorting the KP list"
   ]
  },
  {
   "cell_type": "markdown",
   "metadata": {},
   "source": [
    "Once a KP list has been derived, you can sort for the nearest key or pattern.\n",
    "\n",
    "The first step to see if the input notes are members in the previous mode. If so, then K and P are known."
   ]
  },
  {
   "cell_type": "markdown",
   "metadata": {},
   "source": [
    "# Unique roots: The advantage of prime numbered scales"
   ]
  },
  {
   "cell_type": "markdown",
   "metadata": {},
   "source": [
    "We find chords by measuring the *easiest* way to reach them from whatever sounds surround them. \n",
    "\n",
    "We do this by considering each note as a possible root in each possible key. The closest key and pattern, reachable in the fewest number of steps, yields the strongest candidate for the chord that functions in our ear. "
   ]
  },
  {
   "cell_type": "markdown",
   "metadata": {},
   "source": [
    "To begin with we can check to see if the input chord exists in the current context. If it does, there is no reason to change our sense of what might happened.\n",
    "\n",
    "So, for example:, a C Major chord can live happily in Ab Harmonic Major, so we may as we can accept it as such."
   ]
  },
  {
   "cell_type": "code",
   "execution_count": null,
   "metadata": {},
   "outputs": [],
   "source": [
    "# get a chord "
   ]
  },
  {
   "cell_type": "markdown",
   "metadata": {},
   "source": [
    "When our ears are active and our minds are lazy, we hear harmony."
   ]
  },
  {
   "cell_type": "code",
   "execution_count": null,
   "metadata": {},
   "outputs": [],
   "source": []
  }
 ],
 "metadata": {
  "kernelspec": {
   "display_name": "Python 3",
   "language": "python",
   "name": "python3"
  },
  "language_info": {
   "codemirror_mode": {
    "name": "ipython",
    "version": 3
   },
   "file_extension": ".py",
   "mimetype": "text/x-python",
   "name": "python",
   "nbconvert_exporter": "python",
   "pygments_lexer": "ipython3",
   "version": "3.7.6"
  }
 },
 "nbformat": 4,
 "nbformat_minor": 4
}
