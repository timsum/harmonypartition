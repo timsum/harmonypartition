{
 "cells": [
  {
   "cell_type": "code",
   "execution_count": 67,
   "metadata": {},
   "outputs": [],
   "source": [
    "%matplotlib qt\n",
    "\n",
    "import numpy as np\n",
    "import numpy.ma as ma\n",
    "import itertools\n",
    "\n",
    "from sys import getsizeof\n",
    "import matplotlib.pyplot as plt\n",
    "from matplotlib import cm\n",
    "import matplotlib.colors as colors\n",
    "from mpl_toolkits.mplot3d import Axes3D\n",
    "\n",
    "import IPython.display as ipd\n",
    "\n",
    "import seaborn as sns\n",
    "import pandas as pd"
   ]
  },
  {
   "cell_type": "code",
   "execution_count": 68,
   "metadata": {},
   "outputs": [],
   "source": [
    "def base_to_the_n_array(base, num_bases=8):\n",
    "    '''\n",
    "    e.g. 1,2,4,5 for base 2 num_bases=4\n",
    "    '''\n",
    "    return np.flip(np.array([base**n for n in range(num_bases)]))\n",
    "\n",
    "# starters: binary numbers into base-m space\n",
    "def binary_to_n_polynomial_powers(bin_num, n_powers):\n",
    "    \n",
    "    return np.array([binary_to_polynomial_power(bin_num, i+2) for i in range(n_powers)])\n",
    "\n",
    "def binary_to_polynomial_power(bin_val, power_n):\n",
    "    return val_base_m_to_polynomial_power_n(bin_val, 2, power_n)\n",
    "\n",
    "# wider approach (values base)\n",
    "def val_base_m_to_polynomial_power_n(bin_val, base_m, power_n):\n",
    "    if (bin_val == 0):\n",
    "        return 0\n",
    "    return bits_to_polynomial_power(value_to_array_in_base(bin_val, base_m), power_n)\n",
    "\n",
    "# # utility for dot product against the \n",
    "# def val_in_reverse_base_m(n, base):\n",
    "#     return np.flip(value_to_array_in_base(n, range(base)))\n",
    "\n",
    "def value_to_array_in_base(n, base):\n",
    "    bases = range(base)\n",
    "    if n == 0: return bases[0]\n",
    "    b = len(bases)\n",
    "    digits = []\n",
    "    while n > 0:\n",
    "        digits = [bases[n % b]] + digits\n",
    "        n  = n // b\n",
    "    return np.array(digits)\n",
    "\n",
    "def value_to_string_in_base(n, base):\n",
    "    return np.array2string(value_to_array_in_base(n, base), separator='')[1:-1]\n",
    "\n",
    "def bits_to_polynomial_power(bits_array, power):\n",
    "    return np.dot(bits_array, base_to_the_n_array(power, num_bases=np.size(bits_array)))\n",
    "\n",
    "\n",
    "def coeff_projection_to_base_n(array, base):\n",
    "    return np.array([binary_to_polynomial_power(n, base) for n in array])\n",
    "\n",
    "def coeff_base_m_projection_to_power_n(array, base_m, power_n):\n",
    "    return np.array([val_base_m_to_polynomial_power_n(base_to_the_n_array(n), base_m, power_n) for n in array])\n",
    "\n",
    "# primeness\n",
    "def prime_filter(a):\n",
    "    return np.array([n for n in a if is_prime(n)])\n",
    "\n",
    "def prime_filter_with_indices(a):\n",
    "    return np.array([(i, n) for i, n in enumerate(a) if is_prime(n)])\n",
    "\n",
    "def is_prime(n):\n",
    "    if (n <= 1) :\n",
    "        return 0\n",
    "    if (n <= 3) :\n",
    "        return 1\n",
    "    if (n % 2 == 0 or n % 3 == 0) :\n",
    "        return 0\n",
    "    i = 5\n",
    "    while(i * i <= n) :\n",
    "        if (n % i == 0 or n % (i + 2) == 0):\n",
    "            return 0\n",
    "        i = i + 6\n",
    "    return 1\n",
    "\n",
    "prime_func = np.vectorize(is_prime)"
   ]
  },
  {
   "cell_type": "markdown",
   "metadata": {},
   "source": [
    "## a list of quantitities"
   ]
  },
  {
   "cell_type": "code",
   "execution_count": 165,
   "metadata": {},
   "outputs": [],
   "source": [
    "count_to = 30\n",
    "integers = np.linspace(1, count_to, count_to, dtype=np.int64)\n",
    "integers\n",
    "\n",
    "# from those the primes\n",
    "primes = prime_filter(integers)\n",
    "primes\n",
    "\n",
    "# from which we have the option of choosing either... to investigate\n",
    "source_list = integers\n",
    "source_list\n",
    "\n",
    "source_len = len(source_list)"
   ]
  },
  {
   "cell_type": "markdown",
   "metadata": {},
   "source": [
    "## represented in a number system: \n",
    "### ...binary"
   ]
  },
  {
   "cell_type": "code",
   "execution_count": 166,
   "metadata": {},
   "outputs": [
    {
     "data": {
      "text/plain": [
       "array(['1', '10', '11', '100', '101', '110', '111', '1000', '1001',\n",
       "       '1010', '1011', '1100', '1101', '1110', '1111', '10000', '10001',\n",
       "       '10010', '10011', '10100', '10101', '10110', '10111', '11000',\n",
       "       '11001', '11010', '11011', '11100', '11101', '11110'], dtype='<U5')"
      ]
     },
     "execution_count": 166,
     "metadata": {},
     "output_type": "execute_result"
    }
   ],
   "source": [
    "binstr = np.array([value_to_string_in_base(quant, 2) for quant in source_list])\n",
    "binstr"
   ]
  },
  {
   "cell_type": "markdown",
   "metadata": {},
   "source": [
    "### ... or ternary"
   ]
  },
  {
   "cell_type": "code",
   "execution_count": 167,
   "metadata": {},
   "outputs": [
    {
     "data": {
      "text/plain": [
       "array(['1', '2', '10', '11', '12', '20', '21', '22', '100', '101', '102',\n",
       "       '110', '111', '112', '120', '121', '122', '200', '201', '202',\n",
       "       '210', '211', '212', '220', '221', '222', '1000', '1001', '1002',\n",
       "       '1010'], dtype='<U4')"
      ]
     },
     "execution_count": 167,
     "metadata": {},
     "output_type": "execute_result"
    }
   ],
   "source": [
    "terstr = np.array([value_to_string_in_base(quant, 3) for quant in source_list])\n",
    "terstr"
   ]
  },
  {
   "cell_type": "markdown",
   "metadata": {},
   "source": [
    "### ... etc."
   ]
  },
  {
   "cell_type": "code",
   "execution_count": 168,
   "metadata": {},
   "outputs": [
    {
     "data": {
      "text/plain": [
       "array(['1', '2', '3', '10', '11', '12', '13', '20', '21', '22', '23',\n",
       "       '30', '31', '32', '33', '100', '101', '102', '103', '110', '111',\n",
       "       '112', '113', '120', '121', '122', '123', '130', '131', '132'],\n",
       "      dtype='<U3')"
      ]
     },
     "execution_count": 168,
     "metadata": {},
     "output_type": "execute_result"
    }
   ],
   "source": [
    "quastr = np.array([value_to_string_in_base(quant, 4) for quant in source_list])\n",
    "quastr"
   ]
  },
  {
   "cell_type": "markdown",
   "metadata": {},
   "source": [
    "## represented as arrays of coefficients of a given base, so that we are not limited by symbols"
   ]
  },
  {
   "cell_type": "markdown",
   "metadata": {},
   "source": [
    "### ... binary (in numerical order)"
   ]
  },
  {
   "cell_type": "code",
   "execution_count": 169,
   "metadata": {},
   "outputs": [],
   "source": [
    "bins = np.array([value_to_array_in_base(quant, 2) for quant in source_list])"
   ]
  },
  {
   "cell_type": "markdown",
   "metadata": {},
   "source": [
    "### dot product by the powers of a base to see the original quantities"
   ]
  },
  {
   "cell_type": "code",
   "execution_count": 170,
   "metadata": {},
   "outputs": [],
   "source": [
    "bases = [base_to_the_n_array(2, len(bins[i])) for i in range(source_len)]"
   ]
  },
  {
   "cell_type": "code",
   "execution_count": 171,
   "metadata": {},
   "outputs": [],
   "source": [
    "# dot product of the coefficients and bases for consecutive representations of powers\n",
    "bins_plane = [[bits_to_polynomial_power(bins[i], j) for i in range(source_len)] for j in range(source_len)]"
   ]
  },
  {
   "cell_type": "code",
   "execution_count": 172,
   "metadata": {},
   "outputs": [],
   "source": [
    "# fig = plt.figure(figsize=(12,12))\n",
    "# ax = fig.add_subplot(1, 1, 1)\n",
    "# ax.set_yscale('log', basey=2)\n",
    "# ax.set_xticks(primes, minor=False)\n",
    "\n",
    "\n",
    "# plt.plot(bins_plane[1:], '-o')\n",
    "\n",
    "# plt.show"
   ]
  },
  {
   "cell_type": "code",
   "execution_count": 173,
   "metadata": {},
   "outputs": [],
   "source": [
    "rolling_bases_coeffs = [[val_base_m_to_polynomial_power_n(i, 2, n) for i in range(source_len)] for n in range(source_len)]"
   ]
  },
  {
   "cell_type": "code",
   "execution_count": 174,
   "metadata": {},
   "outputs": [],
   "source": [
    "rolling_bases_coeffs_mask = prime_func(rolling_bases_coeffs)\n",
    "rolling_bases_coeffs_tower = rolling_bases_coeffs_mask * rolling_bases_coeffs"
   ]
  },
  {
   "cell_type": "code",
   "execution_count": 175,
   "metadata": {},
   "outputs": [],
   "source": [
    "# fig = plt.figure(figsize=(12,12))\n",
    "# ax = fig.add_subplot(1, 1, 1)\n",
    "# ax.set_yscale('log', basey=2)\n",
    "# ax.set_xticks(primes, minor=False)\n",
    "\n",
    "# plt.plot(rolling_bases_coeffs[1:], '-')\n",
    "# plt.plot(rolling_bases_coeffs_tower[1:], '^')\n",
    "\n",
    "# plt.show"
   ]
  },
  {
   "cell_type": "code",
   "execution_count": 176,
   "metadata": {},
   "outputs": [],
   "source": [
    "rolling_bases_coeffs = np.array([np.array([np.array([val_base_m_to_polynomial_power_n(i, m+2, n+1) for i in range(source_len)]) for m in range(source_len)]) for n in range(source_len)])"
   ]
  },
  {
   "cell_type": "code",
   "execution_count": 177,
   "metadata": {},
   "outputs": [],
   "source": [
    "rolling_bases_coeffs_mask = prime_func(rolling_bases_coeffs)\n",
    "rolling_bases_coeffs_tower = rolling_bases_coeffs_mask * rolling_bases_coeffs"
   ]
  },
  {
   "cell_type": "code",
   "execution_count": 186,
   "metadata": {},
   "outputs": [
    {
     "name": "stderr",
     "output_type": "stream",
     "text": [
      "/Users/johntimothysummers/opt/anaconda3/lib/python3.7/site-packages/ipykernel_launcher.py:10: RuntimeWarning: divide by zero encountered in log\n",
      "  # Remove the CWD from sys.path while we load stuff.\n"
     ]
    },
    {
     "data": {
      "text/plain": [
       "<function matplotlib.pyplot.show(*args, **kw)>"
      ]
     },
     "execution_count": 186,
     "metadata": {},
     "output_type": "execute_result"
    }
   ],
   "source": [
    "what_to_graph = ma.masked_outside(rolling_bases_coeffs_tower, 11, 23)\n",
    "\n",
    "a = range(rolling_bases_coeffs.shape[0])\n",
    "b = range(rolling_bases_coeffs.shape[1])\n",
    "c = range(rolling_bases_coeffs.shape[2])\n",
    "\n",
    "locations = np.array(list(itertools.product(a, b, c)))\n",
    "locs_rows = locations.T\n",
    "\n",
    "logs = np.log(what_to_graph)\n",
    "max_val = np.max(logs)\n",
    "flat = logs.flatten()/max_val\n",
    "\n",
    "fig = plt.figure(figsize=(12,12))\n",
    "ax = fig.add_subplot(111, projection='3d')\n",
    "ax.view_init(elev=count_to*2, azim=-270)\n",
    "\n",
    "ax.scatter(locs_rows[0], locs_rows[1], locs_rows[2], c=flat, cmap='viridis', marker='o', s=30)\n",
    "\n",
    "plt.show"
   ]
  },
  {
   "cell_type": "code",
   "execution_count": null,
   "metadata": {},
   "outputs": [],
   "source": []
  },
  {
   "cell_type": "code",
   "execution_count": null,
   "metadata": {},
   "outputs": [],
   "source": []
  },
  {
   "cell_type": "code",
   "execution_count": null,
   "metadata": {},
   "outputs": [],
   "source": []
  }
 ],
 "metadata": {
  "kernelspec": {
   "display_name": "Python 3",
   "language": "python",
   "name": "python3"
  },
  "language_info": {
   "codemirror_mode": {
    "name": "ipython",
    "version": 3
   },
   "file_extension": ".py",
   "mimetype": "text/x-python",
   "name": "python",
   "nbconvert_exporter": "python",
   "pygments_lexer": "ipython3",
   "version": "3.7.6"
  }
 },
 "nbformat": 4,
 "nbformat_minor": 4
}
